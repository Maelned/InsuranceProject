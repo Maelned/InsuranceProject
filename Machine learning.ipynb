{
 "cells": [
  {
   "cell_type": "markdown",
   "metadata": {},
   "source": [
    "# Projet de Machine Learning pour l'assurance  \n",
    "\n",
    "<br>\n",
    "\n",
    "<center>Pierre BOUTONNET, Juliette BRIANT, Maxence HUYGHE</center>\n",
    "<br>\n",
    "<center> ISUP - M2 Actuariat</center>\n",
    "\n",
    "\n",
    "## Présentation des données et de la problématique assurantielle associée\n",
    "\n",
    "Pour ce projet, nous utilisons trois bases de données issues du portefeuille d’une compagnie d’assurance automobile : freq, sev et prem. La période d’observation s’étend de janvier 2003 à décembre 2004.\n",
    "\n",
    "\n",
    "\n",
    "- freq : porte sur l’occurrence de sinistres pour chaque police et pour chaque garantie. Elle comporte 64 234 observations.claim frequency databases\n",
    "- sev : porte sur le coût de chaque sinistre. Elle comporte 9 246 observations.\n",
    "- prem : pour chaque police, donne le montant détaillé pour chaque garantie de la prime, ainsi que les informations sur l’assuré et sur le véhicule. Elle comporte 51 949 observations.\n",
    "\n",
    "Voici le détail des variables de chacune des bases de données :\n",
    "\n",
    "**Concernant la base freq :**\n",
    "\n",
    "| Variable | Description |\n",
    "| -------- | ----------- |\n",
    "| IDpol | Le numéro d'identifiant de la police |\n",
    "| Year | L'année de souscription |\n",
    "| Damage | Le numéro de déclaration pour la garantie dommages |\n",
    "| Fire | Le numéro de déclaration pour la garantie incendie |\n",
    "| Other | Le numéro de déclaration pour la garantie autres |\n",
    "| Theft | Le numéro de déclaration pour la garantie vol |\n",
    "| TPL | Le numéro de déclaration pour l'assurance au tiers |\n",
    "| Windscreen | Le numéro de déclaration pour la garantie bris de glace |\n",
    "\n",
    "**Concernant la base sev :**\n",
    "\n",
    "| Variable | Description |\n",
    "| -------- | ----------- |\n",
    "| IDpol | Le numéro d'identifiant de la police |\n",
    "| OccurDate | La date d'occurence |\n",
    "| Payment | Le montant versé |\n",
    "| IDclaim | L'identifiant du sinistre |\n",
    "| Guarantee | La garantie correspondante |\n",
    "\n",
    "**Concerant la base prem :**\n",
    "\n",
    "| Variable       | Description |\n",
    "| --------       | ----------- |\n",
    "| IDpol          | Le numéro d'identifiant de la police |\n",
    "| DrivAge        | L'âge du conducteur, en années |\n",
    "| DriveGener     | Le sexe du conducteur (facteur) |\n",
    "| MaritalStatus  | Le statut marital (facteur) |\n",
    "| BonusMalus     | Le bonus-malus |\n",
    "| LicenceNb      | Le numéro de permis de conduire |\n",
    "| Payfreq        | La fréquence des paiements (facteur) |\n",
    "| JobCode        | Un code correspondant à la profession (facteur) |\n",
    "| VehAge         | L'âge du véhicule, en années |\n",
    "| VehClass       | Le type de véhicule (facteur) |\n",
    "| VehPower       | La puissance du véhicule (facteur) du moins puissant \"P2\" au plus puissant \"P15\" |\n",
    "| VehGas         | Le type de moteur : diesel ou essence (facteur) |\n",
    "| VehUsage       | L'usage du véhicule (facteur) |\n",
    "| Garage         | Le type de lieu de stationnement (facteur) |\n",
    "| Area           | Le code géographique (facteur)|\n",
    "| Region         | La région |\n",
    "| Channel        | Le code correspondant au canal de distribution (facteur)|\n",
    "| Marketing      | Le code marketing (facteur) |\n",
    "| PremWindscreen | Le montant annuel de la prime pour le bris de glace |\n",
    "| PremDamAll     | Le montant annuel de la prime tout risque |\n",
    "| PremFire       | Le montant annuel de la prime contre le risque incendie |\n",
    "| PremAcc1       | Le montant annuel de la prime contre les accidents de type 1 |\n",
    "| PremAcc2       | Le montant annuel de la prime contre les accidents de type 2 |\n",
    "| PremLegal      | Le montant annuel de la prime pour la protection juridique |\n",
    "| PremTPLV       | Le montant annuel de la prime pour l'assurance au tiers facultative |\n",
    "| PremTPLM       | Le montant annuel de la prime pour l'assurance au tiers obligatoire |\n",
    "| PremServ       | Le montant annuel de la prime pour la garantie du service|\n",
    "| PremTheft      | Le montant annuel de la prime contre le vol |\n",
    "| PremTot        | Le montant annuel total de la prime |\n",
    "| Year           | L'année |\n",
    "\n",
    "*Source des données : https://dutangc.perso.math.cnrs.fr/RRepository/pub/web/CASdatasets-manual.pdf#page=56&zoom=100,133,256*\n",
    "\n",
    "L’objectif que nous nous sommes fixé est le suivant : construire un modèle permettant de déterminer si une police est susceptible de subir un sinistre en fonction des caractéristiques du véhicule et du conducteur, en se basant sur l’historique dont dispose la compagnie d’assurance. Il s’agit d’un problème de classification."
   ]
  },
  {
   "cell_type": "markdown",
   "metadata": {},
   "source": [
    "## Project\n",
    "\n",
    "First of all let's do useful imports suchs as numpy and pandas for calculation and data manipulation or matplotlib and seaborn for nice graphs and DataViz"
   ]
  },
  {
   "cell_type": "code",
   "execution_count": 40,
   "metadata": {},
   "outputs": [],
   "source": [
    "import os\n",
    "import numpy as np\n",
    "import pandas as pd\n",
    "import seaborn as sns\n",
    "import matplotlib.pyplot as plt\n",
    "SEED = 42"
   ]
  },
  {
   "cell_type": "code",
   "execution_count": 41,
   "metadata": {},
   "outputs": [
    {
     "name": "stderr",
     "output_type": "stream",
     "text": [
      "C:\\Users\\Juliette\\anaconda3\\lib\\site-packages\\IPython\\core\\interactiveshell.py:3165: DtypeWarning: Columns (4,8) have mixed types.Specify dtype option on import or set low_memory=False.\n",
      "  has_raised = await self.run_ast_nodes(code_ast.body, cell_name,\n"
     ]
    }
   ],
   "source": [
    "df = pd.read_csv('all_data.csv', index_col=[0])\n",
    "#Nombre de lignes de \"all_data\" ?"
   ]
  },
  {
   "cell_type": "markdown",
   "metadata": {},
   "source": [
    "Quick data validation (verify NaN and inconsistencies)"
   ]
  },
  {
   "cell_type": "code",
   "execution_count": 42,
   "metadata": {},
   "outputs": [
    {
     "data": {
      "text/plain": [
       "MaritalStatus    23246\n",
       "JobCode          23246\n",
       "OccurDate        25307\n",
       "Payment          25307\n",
       "IDclaim          25307\n",
       "Guarantee        25307\n",
       "dtype: int64"
      ]
     },
     "execution_count": 42,
     "metadata": {},
     "output_type": "execute_result"
    }
   ],
   "source": [
    "nan_counts = df.isna().sum()\n",
    "# Filter columns with NaN values\n",
    "columns_with_nan = nan_counts[nan_counts > 0]\n",
    "columns_with_nan"
   ]
  },
  {
   "cell_type": "code",
   "execution_count": 43,
   "metadata": {},
   "outputs": [
    {
     "name": "stdout",
     "output_type": "stream",
     "text": [
      "Treating column :  MaritalStatus\n",
      "Number of missing values :  23246\n",
      "Cohabiting    7105\n",
      "Married       2365\n",
      "Single        1361\n",
      "Widowed        340\n",
      "Divorced       136\n",
      "Name: MaritalStatus, dtype: int64\n",
      "\n",
      "\n",
      "Treating column :  JobCode\n",
      "Number of missing values :  23246\n",
      "Private employee    6091\n",
      "Public employee     3338\n",
      "Retiree              690\n",
      "Other                565\n",
      "Craftsman            438\n",
      "Farmer               167\n",
      "Retailer              18\n",
      "Name: JobCode, dtype: int64\n",
      "\n",
      "\n",
      "Treating column :  OccurDate\n",
      "Number of missing values :  25307\n",
      "2003-01-20    28\n",
      "2004-07-16    27\n",
      "2003-05-18    26\n",
      "2004-11-30    26\n",
      "2004-09-25    25\n",
      "              ..\n",
      "2003-04-18     3\n",
      "2004-06-09     2\n",
      "2003-07-25     2\n",
      "2004-05-05     2\n",
      "2003-08-29     2\n",
      "Name: OccurDate, Length: 722, dtype: int64\n",
      "\n",
      "\n",
      "Treating column :  Payment\n",
      "Number of missing values :  25307\n",
      "897.0      448\n",
      "0.0        328\n",
      "915.0      215\n",
      "1121.0      92\n",
      "199.0       34\n",
      "          ... \n",
      "8232.0       1\n",
      "13843.0      1\n",
      "1324.0       1\n",
      "2245.0       1\n",
      "2355.0       1\n",
      "Name: Payment, Length: 2250, dtype: int64\n",
      "\n",
      "\n",
      "Treating column :  IDclaim\n",
      "Number of missing values :  25307\n",
      "9731.0       7\n",
      "201827.0     6\n",
      "10060.0      5\n",
      "8175.0       5\n",
      "1201827.0    5\n",
      "            ..\n",
      "209153.0     1\n",
      "200934.0     1\n",
      "205345.0     1\n",
      "203290.0     1\n",
      "1206079.0    1\n",
      "Name: IDclaim, Length: 8968, dtype: int64\n",
      "\n",
      "\n",
      "Treating column :  Guarantee\n",
      "Number of missing values :  25307\n",
      "TPL           4202\n",
      "Windscreen    3196\n",
      "Damage         953\n",
      "Theft          575\n",
      "Other          213\n",
      "Fire           107\n",
      "Name: Guarantee, dtype: int64\n",
      "\n",
      "\n"
     ]
    }
   ],
   "source": [
    "for i in columns_with_nan.keys():\n",
    "    print('Treating column : ', i)\n",
    "    print('Number of missing values : ', df[i].isna().sum())\n",
    "    print(df[i].value_counts())\n",
    "    print('\\n')"
   ]
  },
  {
   "cell_type": "code",
   "execution_count": 44,
   "metadata": {},
   "outputs": [],
   "source": [
    "for i in ['MaritalStatus', 'JobCode']:\n",
    "    df[i].fillna('Unknown', inplace = True)"
   ]
  },
  {
   "cell_type": "code",
   "execution_count": 45,
   "metadata": {},
   "outputs": [
    {
     "data": {
      "text/plain": [
       "OccurDate    25307\n",
       "Payment      25307\n",
       "IDclaim      25307\n",
       "Guarantee    25307\n",
       "dtype: int64"
      ]
     },
     "execution_count": 45,
     "metadata": {},
     "output_type": "execute_result"
    }
   ],
   "source": [
    "nan_counts = df.isna().sum()\n",
    "# Filter columns with NaN values\n",
    "columns_with_nan = nan_counts[nan_counts > 0]\n",
    "columns_with_nan"
   ]
  },
  {
   "cell_type": "markdown",
   "metadata": {},
   "source": [
    "These missing values are 'normal' it means that there is no Claim for the corresponding PolicyID."
   ]
  },
  {
   "cell_type": "code",
   "execution_count": 46,
   "metadata": {},
   "outputs": [],
   "source": [
    "df['GotClaim'] = df['Payment'].notna()\n",
    "df.drop(columns = ['OccurDate', 'Payment', 'IDclaim', 'Guarantee', 'Damage', 'Fire', 'Other', 'Theft', 'TPL', 'Windscreen'], inplace=True)"
   ]
  },
  {
   "cell_type": "markdown",
   "metadata": {},
   "source": [
    "Let's create our target feature which is whether a person got claim or not"
   ]
  },
  {
   "cell_type": "code",
   "execution_count": 47,
   "metadata": {},
   "outputs": [],
   "source": [
    "from sklearn.model_selection import train_test_split\n",
    "\n",
    "train_df, test_df = train_test_split(df, test_size=0.2, random_state=42)\n"
   ]
  },
  {
   "cell_type": "code",
   "execution_count": 49,
   "metadata": {},
   "outputs": [],
   "source": [
    "train_df.to_csv('train.csv')\n",
    "test_df.to_csv('test.csv')"
   ]
  },
  {
   "cell_type": "code",
   "execution_count": 50,
   "metadata": {},
   "outputs": [],
   "source": [
    "train = pd.read_csv('train.csv', index_col=[0])\n",
    "test = pd.read_csv('test.csv', index_col=[0])"
   ]
  },
  {
   "cell_type": "code",
   "execution_count": 51,
   "metadata": {},
   "outputs": [
    {
     "data": {
      "text/html": [
       "<div>\n",
       "<style scoped>\n",
       "    .dataframe tbody tr th:only-of-type {\n",
       "        vertical-align: middle;\n",
       "    }\n",
       "\n",
       "    .dataframe tbody tr th {\n",
       "        vertical-align: top;\n",
       "    }\n",
       "\n",
       "    .dataframe thead th {\n",
       "        text-align: right;\n",
       "    }\n",
       "</style>\n",
       "<table border=\"1\" class=\"dataframe\">\n",
       "  <thead>\n",
       "    <tr style=\"text-align: right;\">\n",
       "      <th></th>\n",
       "      <th>IDpol</th>\n",
       "      <th>DrivAge</th>\n",
       "      <th>DrivGender</th>\n",
       "      <th>MaritalStatus</th>\n",
       "      <th>BonusMalus</th>\n",
       "      <th>LicenceNb</th>\n",
       "      <th>PayFreq</th>\n",
       "      <th>JobCode</th>\n",
       "      <th>VehAge</th>\n",
       "      <th>VehClass</th>\n",
       "      <th>...</th>\n",
       "      <th>PremFire</th>\n",
       "      <th>PremAcc1</th>\n",
       "      <th>PremAcc2</th>\n",
       "      <th>PremLegal</th>\n",
       "      <th>PremTPLM</th>\n",
       "      <th>PremTPLV</th>\n",
       "      <th>PremServ</th>\n",
       "      <th>PremTheft</th>\n",
       "      <th>PremTot</th>\n",
       "      <th>GotClaim</th>\n",
       "    </tr>\n",
       "  </thead>\n",
       "  <tbody>\n",
       "    <tr>\n",
       "      <th>22083</th>\n",
       "      <td>90158529.100b</td>\n",
       "      <td>29.0</td>\n",
       "      <td>F</td>\n",
       "      <td>Unknown</td>\n",
       "      <td>64.0</td>\n",
       "      <td>2.0</td>\n",
       "      <td>Half-yearly</td>\n",
       "      <td>Unknown</td>\n",
       "      <td>6.0</td>\n",
       "      <td>Cheaper</td>\n",
       "      <td>...</td>\n",
       "      <td>9.0</td>\n",
       "      <td>37.0</td>\n",
       "      <td>0.0</td>\n",
       "      <td>12.0</td>\n",
       "      <td>182.5</td>\n",
       "      <td>10.0</td>\n",
       "      <td>57.0</td>\n",
       "      <td>88.0</td>\n",
       "      <td>419.5</td>\n",
       "      <td>True</td>\n",
       "    </tr>\n",
       "    <tr>\n",
       "      <th>23319</th>\n",
       "      <td>90168155.100a</td>\n",
       "      <td>30.0</td>\n",
       "      <td>F</td>\n",
       "      <td>Unknown</td>\n",
       "      <td>90.0</td>\n",
       "      <td>1.0</td>\n",
       "      <td>Annual</td>\n",
       "      <td>Unknown</td>\n",
       "      <td>9.0</td>\n",
       "      <td>Cheaper</td>\n",
       "      <td>...</td>\n",
       "      <td>0.0</td>\n",
       "      <td>36.0</td>\n",
       "      <td>0.0</td>\n",
       "      <td>15.0</td>\n",
       "      <td>352.0</td>\n",
       "      <td>19.0</td>\n",
       "      <td>55.0</td>\n",
       "      <td>0.0</td>\n",
       "      <td>477.0</td>\n",
       "      <td>False</td>\n",
       "    </tr>\n",
       "    <tr>\n",
       "      <th>30662</th>\n",
       "      <td>90147484.101a</td>\n",
       "      <td>42.0</td>\n",
       "      <td>M</td>\n",
       "      <td>Unknown</td>\n",
       "      <td>50.0</td>\n",
       "      <td>2.0</td>\n",
       "      <td>Half-yearly</td>\n",
       "      <td>Unknown</td>\n",
       "      <td>3.0</td>\n",
       "      <td>Medium low</td>\n",
       "      <td>...</td>\n",
       "      <td>13.0</td>\n",
       "      <td>0.0</td>\n",
       "      <td>0.0</td>\n",
       "      <td>17.0</td>\n",
       "      <td>224.9</td>\n",
       "      <td>12.0</td>\n",
       "      <td>57.0</td>\n",
       "      <td>105.0</td>\n",
       "      <td>760.9</td>\n",
       "      <td>False</td>\n",
       "    </tr>\n",
       "    <tr>\n",
       "      <th>17190</th>\n",
       "      <td>90131741.100b</td>\n",
       "      <td>29.0</td>\n",
       "      <td>M</td>\n",
       "      <td>Unknown</td>\n",
       "      <td>85.0</td>\n",
       "      <td>2.0</td>\n",
       "      <td>Half-yearly</td>\n",
       "      <td>Unknown</td>\n",
       "      <td>14.0</td>\n",
       "      <td>Cheaper</td>\n",
       "      <td>...</td>\n",
       "      <td>0.0</td>\n",
       "      <td>35.0</td>\n",
       "      <td>0.0</td>\n",
       "      <td>10.0</td>\n",
       "      <td>196.6</td>\n",
       "      <td>0.0</td>\n",
       "      <td>58.0</td>\n",
       "      <td>0.0</td>\n",
       "      <td>299.6</td>\n",
       "      <td>True</td>\n",
       "    </tr>\n",
       "    <tr>\n",
       "      <th>11823</th>\n",
       "      <td>90185369.101a</td>\n",
       "      <td>44.0</td>\n",
       "      <td>M</td>\n",
       "      <td>Unknown</td>\n",
       "      <td>50.0</td>\n",
       "      <td>2.0</td>\n",
       "      <td>Annual</td>\n",
       "      <td>Unknown</td>\n",
       "      <td>6.0</td>\n",
       "      <td>Medium low</td>\n",
       "      <td>...</td>\n",
       "      <td>6.0</td>\n",
       "      <td>0.0</td>\n",
       "      <td>0.0</td>\n",
       "      <td>10.0</td>\n",
       "      <td>124.2</td>\n",
       "      <td>6.0</td>\n",
       "      <td>50.0</td>\n",
       "      <td>76.0</td>\n",
       "      <td>455.2</td>\n",
       "      <td>False</td>\n",
       "    </tr>\n",
       "  </tbody>\n",
       "</table>\n",
       "<p>5 rows × 30 columns</p>\n",
       "</div>"
      ],
      "text/plain": [
       "               IDpol  DrivAge DrivGender MaritalStatus  BonusMalus  LicenceNb  \\\n",
       "22083  90158529.100b     29.0          F       Unknown        64.0        2.0   \n",
       "23319  90168155.100a     30.0          F       Unknown        90.0        1.0   \n",
       "30662  90147484.101a     42.0          M       Unknown        50.0        2.0   \n",
       "17190  90131741.100b     29.0          M       Unknown        85.0        2.0   \n",
       "11823  90185369.101a     44.0          M       Unknown        50.0        2.0   \n",
       "\n",
       "           PayFreq  JobCode  VehAge    VehClass  ... PremFire PremAcc1  \\\n",
       "22083  Half-yearly  Unknown     6.0     Cheaper  ...      9.0     37.0   \n",
       "23319       Annual  Unknown     9.0     Cheaper  ...      0.0     36.0   \n",
       "30662  Half-yearly  Unknown     3.0  Medium low  ...     13.0      0.0   \n",
       "17190  Half-yearly  Unknown    14.0     Cheaper  ...      0.0     35.0   \n",
       "11823       Annual  Unknown     6.0  Medium low  ...      6.0      0.0   \n",
       "\n",
       "      PremAcc2 PremLegal PremTPLM PremTPLV PremServ PremTheft  PremTot  \\\n",
       "22083      0.0      12.0    182.5     10.0     57.0      88.0    419.5   \n",
       "23319      0.0      15.0    352.0     19.0     55.0       0.0    477.0   \n",
       "30662      0.0      17.0    224.9     12.0     57.0     105.0    760.9   \n",
       "17190      0.0      10.0    196.6      0.0     58.0       0.0    299.6   \n",
       "11823      0.0      10.0    124.2      6.0     50.0      76.0    455.2   \n",
       "\n",
       "       GotClaim  \n",
       "22083      True  \n",
       "23319     False  \n",
       "30662     False  \n",
       "17190      True  \n",
       "11823     False  \n",
       "\n",
       "[5 rows x 30 columns]"
      ]
     },
     "execution_count": 51,
     "metadata": {},
     "output_type": "execute_result"
    }
   ],
   "source": [
    "train.head()"
   ]
  },
  {
   "cell_type": "code",
   "execution_count": 52,
   "metadata": {},
   "outputs": [
    {
     "data": {
      "text/plain": [
       "Index(['IDpol', 'DrivAge', 'DrivGender', 'MaritalStatus', 'BonusMalus',\n",
       "       'LicenceNb', 'PayFreq', 'JobCode', 'VehAge', 'VehClass', 'VehPower',\n",
       "       'VehGas', 'VehUsage', 'Garage', 'Area', 'Region', 'Channel',\n",
       "       'Marketing', 'PremWindscreen', 'PremDamAll', 'PremFire', 'PremAcc1',\n",
       "       'PremAcc2', 'PremLegal', 'PremTPLM', 'PremTPLV', 'PremServ',\n",
       "       'PremTheft', 'PremTot', 'GotClaim'],\n",
       "      dtype='object')"
      ]
     },
     "execution_count": 52,
     "metadata": {},
     "output_type": "execute_result"
    }
   ],
   "source": [
    "train.columns"
   ]
  },
  {
   "cell_type": "markdown",
   "metadata": {},
   "source": [
    "Format data (int to int, categorical variables and so on...)"
   ]
  },
  {
   "cell_type": "code",
   "execution_count": 53,
   "metadata": {},
   "outputs": [],
   "source": [
    "numeric_features = ['DrivAge', 'VehAge', 'BonusMalus', 'PremWindscreen', 'PremDamAll', 'PremFire', 'PremAcc1', 'PremAcc2', \n",
    "                     'PremLegal', 'PremTPLM', 'PremTPLV', 'PremServ', 'PremTheft']\n",
    "\n",
    "categorical_features = ['DrivGender', 'MaritalStatus', 'LicenceNb', 'PayFreq', 'JobCode', 'VehClass', 'VehPower', \n",
    "                       'VehGas', 'VehUsage', 'Garage', 'Area', 'Region', 'Channel', 'Marketing']"
   ]
  },
  {
   "cell_type": "code",
   "execution_count": 54,
   "metadata": {},
   "outputs": [
    {
     "data": {
      "text/plain": [
       "IDpol              object\n",
       "DrivAge           float64\n",
       "DrivGender         object\n",
       "MaritalStatus      object\n",
       "BonusMalus        float64\n",
       "LicenceNb         float64\n",
       "PayFreq            object\n",
       "JobCode            object\n",
       "VehAge            float64\n",
       "VehClass           object\n",
       "VehPower           object\n",
       "VehGas             object\n",
       "VehUsage           object\n",
       "Garage             object\n",
       "Area               object\n",
       "Region             object\n",
       "Channel            object\n",
       "Marketing          object\n",
       "PremWindscreen    float64\n",
       "PremDamAll        float64\n",
       "PremFire          float64\n",
       "PremAcc1          float64\n",
       "PremAcc2          float64\n",
       "PremLegal         float64\n",
       "PremTPLM          float64\n",
       "PremTPLV          float64\n",
       "PremServ          float64\n",
       "PremTheft         float64\n",
       "PremTot           float64\n",
       "GotClaim             bool\n",
       "dtype: object"
      ]
     },
     "execution_count": 54,
     "metadata": {},
     "output_type": "execute_result"
    }
   ],
   "source": [
    "train.dtypes"
   ]
  },
  {
   "cell_type": "code",
   "execution_count": 61,
   "metadata": {},
   "outputs": [
    {
     "data": {
      "image/png": "[encoded data removed]",
      "text/plain": [
       "<Figure size 432x288 with 1 Axes>"
      ]
     },
     "metadata": {
      "needs_background": "light"
     },
     "output_type": "display_data"
    }
   ],
   "source": [
    "sns.boxplot(data=train, y = 'DrivAge', x = 'GotClaim')\n",
    "plt.show()"
   ]
  },
  {
   "cell_type": "code",
   "execution_count": 62,
   "metadata": {},
   "outputs": [
    {
     "data": {
      "text/plain": [
       "<AxesSubplot:xlabel='DrivGender', ylabel='Count'>"
      ]
     },
     "execution_count": 62,
     "metadata": {},
     "output_type": "execute_result"
    },
    {
     "data": {
      "image/png": "[encoded data removed]",
      "text/plain": [
       "<Figure size 432x288 with 1 Axes>"
      ]
     },
     "metadata": {
      "needs_background": "light"
     },
     "output_type": "display_data"
    }
   ],
   "source": [
    "sns.histplot(data=train, x = 'DrivGender', hue = 'GotClaim', multiple=\"dodge\", shrink=.8)"
   ]
  },
  {
   "cell_type": "code",
   "execution_count": 63,
   "metadata": {},
   "outputs": [],
   "source": [
    "y = train['GotClaim']\n",
    "X = train.drop(columns=['GotClaim'])"
   ]
  },
  {
   "cell_type": "markdown",
   "metadata": {},
   "source": [
    "# Prepare the Machine Learning Pipelines"
   ]
  },
  {
   "cell_type": "code",
   "execution_count": 64,
   "metadata": {},
   "outputs": [],
   "source": [
    "from sklearn.linear_model import LogisticRegression\n",
    "from sklearn.ensemble import RandomForestClassifier\n",
    "from sklearn.metrics import classification_report, confusion_matrix\n",
    "from sklearn.compose import ColumnTransformer\n",
    "from sklearn.impute import SimpleImputer\n",
    "from sklearn.preprocessing import OneHotEncoder, StandardScaler\n",
    "from sklearn.datasets import fetch_openml\n",
    "from sklearn.feature_selection import SelectPercentile, chi2\n",
    "from sklearn.model_selection import RandomizedSearchCV, train_test_split, GridSearchCV\n",
    "from sklearn.pipeline import Pipeline"
   ]
  },
  {
   "cell_type": "code",
   "execution_count": 65,
   "metadata": {},
   "outputs": [],
   "source": [
    "numeric_transformer = Pipeline(\n",
    "    steps=[(\"imputer\", SimpleImputer(strategy=\"median\")), (\"scaler\", StandardScaler())]\n",
    ")\n",
    "\n",
    "categorical_transformer = Pipeline(\n",
    "    steps=[\n",
    "        (\"encoder\", OneHotEncoder(handle_unknown=\"ignore\")),\n",
    "        (\"selector\", SelectPercentile(chi2, percentile=50)),\n",
    "    ]\n",
    ")\n",
    "preprocessor = ColumnTransformer(\n",
    "    transformers=[\n",
    "        (\"num\", numeric_transformer, numeric_features),\n",
    "        (\"cat\", categorical_transformer, categorical_features),\n",
    "    ]\n",
    ")"
   ]
  },
  {
   "cell_type": "code",
   "execution_count": 66,
   "metadata": {},
   "outputs": [],
   "source": [
    "pipe_lr = Pipeline(\n",
    "    steps=[(\"preprocessor\", preprocessor), (\"LR\", LogisticRegression(random_state=SEED))]\n",
    ")\n",
    "\n",
    "pipe_rf = Pipeline(\n",
    "    steps=[(\"preprocessor\", preprocessor), (\"RF\", RandomForestClassifier(random_state=SEED))]\n",
    ")"
   ]
  },
  {
   "cell_type": "code",
   "execution_count": 67,
   "metadata": {},
   "outputs": [],
   "source": [
    "param_range = [1, 2, 3, 4, 5, 6]\n",
    "param_range_fl = [1.0, 0.5, 0.1]\n",
    "n_estimators = [50,100,150]\n",
    "learning_rates = [.1,.2,.3]\n",
    "\n",
    "lr_param_grid = [{'LR__penalty': ['l1', 'l2'],\n",
    "                   'LR__C': param_range_fl,\n",
    "                   'LR__solver': ['liblinear']}]\n",
    "\n",
    "rf_param_grid = [{'RF__min_samples_leaf': param_range,\n",
    "                   'RF__max_depth': param_range,\n",
    "                   'RF__min_samples_split': param_range[1:]}]"
   ]
  },
  {
   "cell_type": "code",
   "execution_count": 68,
   "metadata": {},
   "outputs": [],
   "source": [
    "lr_grid_search = GridSearchCV(estimator=pipe_lr,\n",
    "        param_grid=lr_param_grid,\n",
    "        scoring='accuracy',\n",
    "        cv=3)\n",
    "\n",
    "rf_grid_search = GridSearchCV(estimator=pipe_rf,\n",
    "        param_grid=rf_param_grid,\n",
    "        scoring='accuracy',\n",
    "        cv=3)"
   ]
  },
  {
   "cell_type": "code",
   "execution_count": null,
   "metadata": {},
   "outputs": [
    {
     "name": "stdout",
     "output_type": "stream",
     "text": [
      "model score: 0.739\n"
     ]
    }
   ],
   "source": [
    "grids = [lr_grid_search, rf_grid_search]\n",
    "models_fitted = []\n",
    "X_train, X_test, y_train, y_test = train_test_split(X, y, test_size=0.2, random_state=SEED)\n",
    "for pipe in grids:\n",
    "    tmp = pipe.fit(X_train,y_train)\n",
    "    print(\"model score: %.3f\" % tmp.score(X_test, y_test))\n",
    "    models_fitted.append(tmp)"
   ]
  },
  {
   "cell_type": "markdown",
   "metadata": {},
   "source": [
    "Questions : \n",
    "    - Quel est le modèle ? Quelle variable en fonction de quelles variables ?\n",
    "    - Nombre de lignes (concaténation des bases)\n",
    "    - Supression de certaines variables (Got Claim, valeurs manquantes)\n",
    "    - Pipeline ?\n",
    "    "
   ]
  }
 ],
 "metadata": {
  "kernelspec": {
   "display_name": "Python 3",
   "language": "python",
   "name": "python3"
  },
  "language_info": {
   "codemirror_mode": {
    "name": "ipython",
    "version": 3
   },
   "file_extension": ".py",
   "mimetype": "text/x-python",
   "name": "python",
   "nbconvert_exporter": "python",
   "pygments_lexer": "ipython3",
   "version": "3.8.8"
  }
 },
 "nbformat": 4,
 "nbformat_minor": 2
}
