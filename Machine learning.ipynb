{
 "cells": [
  {
   "cell_type": "markdown",
   "metadata": {},
   "source": [
    "# Projet de Machine Learning pour l'assurance  \n",
    "\n",
    "<br>\n",
    "\n",
    "<center>Pierre BOUTONNET, Juliette BRIANT, Maxence HUYGHE</center>\n",
    "<br>\n",
    "<center> ISUP - M2 Actuariat</center>\n",
    "\n",
    "\n",
    "## Présentation des données et de la problématique assurantielle associée\n",
    "\n",
    "Pour ce projet, nous utilisons trois jeux de données issues du portefeuille d’une compagnie d’assurance automobile : *freq*, *sev* et *prem*. La période d’observation associée s’étend sur une période de l'ordre de deux exercices comptables, de janvier 2003 à décembre 2004.\n",
    "\n",
    "- *freq* : porte sur l’occurrence de sinistres pour chaque police et pour chaque garantie (64 234 observations).\n",
    "- *sev* : porte sur le coût de chaque sinistre (9 246 observations).\n",
    "- *prem* : pour chaque police, donne le montant détaillé concernant chacune des garanties de la prime, ainsi que les informations sur l’assuré et sur le véhicule (51 949 observations).\n",
    "\n",
    "Les éléments ci-après permettent de fournir un aperçu des bases précédemment introduites. \n",
    "Pour cela, un cours descriptif des variables principales est réalisé pour l'ensemble des bases de données étudiées.\n",
    "\n",
    "**Concernant la base *freq* :**\n",
    "\n",
    "| Variable | Description |\n",
    "| -------- | ----------- |\n",
    "| IDpol | Le numéro d'identifiant de la police |\n",
    "| Year | L'année de souscription |\n",
    "| Damage | Le numéro de déclaration pour la garantie dommages |\n",
    "| Fire | Le numéro de déclaration pour la garantie incendie |\n",
    "| Other | Le numéro de déclaration pour la garantie autres |\n",
    "| Theft | Le numéro de déclaration pour la garantie vol |\n",
    "| TPL | Le numéro de déclaration pour l'assurance au tiers |\n",
    "| Windscreen | Le numéro de déclaration pour la garantie bris de glace |\n",
    "\n",
    "**Concernant la base *sev* :**\n",
    "\n",
    "| Variable | Description |\n",
    "| -------- | ----------- |\n",
    "| IDpol | Le numéro d'identifiant de la police |\n",
    "| OccurDate | La date d'occurence |\n",
    "| Payment | Le montant versé |\n",
    "| IDclaim | L'identifiant du sinistre |\n",
    "| Guarantee | La garantie correspondante |\n",
    "\n",
    "**Concerant la base *prem* :**\n",
    "\n",
    "| Variable       | Description |\n",
    "| --------       | ----------- |\n",
    "| IDpol          | Le numéro d'identifiant de la police |\n",
    "| DrivAge        | L'âge du conducteur, en années |\n",
    "| DriveGener     | Le sexe du conducteur (facteur) |\n",
    "| MaritalStatus  | Le statut marital (facteur) |\n",
    "| BonusMalus     | Le bonus-malus |\n",
    "| LicenceNb      | Type de permis (facteur) |\n",
    "| Payfreq        | La fréquence des paiements (facteur) |\n",
    "| JobCode        | Un code correspondant à la profession (facteur) |\n",
    "| VehAge         | L'âge du véhicule, en années |\n",
    "| VehClass       | Le type de véhicule (facteur) |\n",
    "| VehPower       | La puissance du véhicule (facteur) du moins puissant \"P2\" au plus puissant \"P15\" |\n",
    "| VehGas         | Le type de moteur : diesel ou essence (facteur) |\n",
    "| VehUsage       | L'usage du véhicule (facteur) |\n",
    "| Garage         | Le type de lieu de stationnement (facteur) |\n",
    "| Area           | Le code géographique (facteur)|\n",
    "| Region         | La région |\n",
    "| Channel        | Le code correspondant au canal de distribution (facteur)|\n",
    "| Marketing      | Le code marketing (facteur) |\n",
    "| PremWindscreen | Le montant annuel de la prime pour le bris de glace |\n",
    "| PremDamAll     | Le montant annuel de la prime tout risque |\n",
    "| PremFire       | Le montant annuel de la prime contre le risque incendie |\n",
    "| PremAcc1       | Le montant annuel de la prime contre les accidents de type 1 |\n",
    "| PremAcc2       | Le montant annuel de la prime contre les accidents de type 2 |\n",
    "| PremLegal      | Le montant annuel de la prime pour la protection juridique |\n",
    "| PremTPLV       | Le montant annuel de la prime pour l'assurance au tiers facultative |\n",
    "| PremTPLM       | Le montant annuel de la prime pour l'assurance au tiers obligatoire |\n",
    "| PremServ       | Le montant annuel de la prime pour la garantie du service|\n",
    "| PremTheft      | Le montant annuel de la prime contre le vol |\n",
    "| PremTot        | Le montant annuel total de la prime |\n",
    "| Year           | L'année |\n",
    "\n",
    "*Source des données : https://dutangc.perso.math.cnrs.fr/RRepository/pub/web/CASdatasets-manual.pdf#page=56&zoom=100,133,256*\n",
    "\n",
    "#### Objectif directeur et intérêt assurantiel \n",
    "\n",
    "L’objectif que nous nous sommes fixé est le suivant : construire un modèle permettant de déterminer si une police est susceptible de subir un sinistre en fonction des caractéristiques du véhicule et du conducteur.\n",
    "Dans cette optique, différents modèles d'apprentissage automatique vont être sollicités afin de mettre à profit l’historique dont dispose la compagnie d’assurance pour apporter une réponse à ce problème de classification.\n",
    "\n",
    "Cet enjeu de prédiction de l'occurence d'un sinistre à partir du profil d'un assuré revêt un enjeu clé pour les assureurs et notamment dans le cadre de l'Assurance Automobile. \n",
    "En effet, en raison du mécanisme d'inversion du cycle de production, toute compagnie d'assurance doit pouvoir être capable de proposer un tarif individuel (a priori) étant suffisamment élevé pour permettre de porter le risque auquel est soumis l'individu, sans pour autant pénaliser l'attractivité commerciale de la couverture. Le mécanisme de provisionnement est également impacté par ce phénomène puisque l'organisme assureur se doit de conserver un montant de ressources assez prudent afin d'être en mesure d'indemniser ses sinistrés à tout instant du contrat et sans mettre en péril la pérennité de l'activité.\n",
    "C'est pourquoi il est primordial d'être capable de distinguer les clients \"à risque\" du reste du portefeuille en fonction des informations à disposition sur ces derniers mais également des spécificités de l'aléa sur lequel porte les polices.\n",
    "\n",
    "Dans ce contexte de classification des assurés en catégories distinctes, les algorithmes de Machine Learning incarnent un réel pouvoir de modélisation. Leur aptitude à gérer de grands volumes de données et leur faculté à appliquer des modèles mathématiques de complexité variable, offre une perspective de résolution complète en termes de diversité .\n",
    "Ainsi, la suite de ce projet vise à étudier certains modèles d'apprentissage et d'évaluer leur pertinence vis-à-vis de la problématique assurantielle considérée.\n",
    "\n",
    "#### Mise en place du cadre d'entraînement des modèles \n",
    "\n",
    "Afin d'y parvenir, nous avons concaténé les trois bases de données précédemment introduites en réalisant une jointure sur la variable 'IDpol'. Cela a été l'occasion de nettoyer et retraiter les données afin de les rendre exploitables, notamment en conservant une seule valeur pour la prime annuelle des polices existant en 2003 et en 2004 puis en créant la variable cible, 'GotClaim', à partir de la variable 'Payment'.  vaut 'True' si un sinistre a eu lieu, 'False' sinon.     \n",
    "\n",
    "Nous avons ensuite divisé le jeu de données initial en un jeu d'apprentissage, constitué de 80 % des observations et construit grâce à un tirage aléatoire, et en un jeu test, composé des données restantes. L'objectif est d'entraîner nos modèles sur le jeu d'apprentissage et d'évaluer leur pouvoir de prédiction par une étapé de validation sur les données du jeu test. Les observations des datasets considérées sont labellisées, c'est-à-dire que pour une entrée donnée, on connaît la classe de sortie qu'elle doit produire : il s'agit donc d'un apprentissage supervisé.\n",
    "\n",
    "<ins>Remarque :</ins> Dans le domaine du Machine Learning, la classification supervisée intervient pour attribuer une catégorie à des observations en entrée et ainsi former des classes partageant des propriétés communes par rapport à un critère particulier."
   ]
  },
  {
   "cell_type": "markdown",
   "metadata": {},
   "source": [
    "## Analyse préliminaire des données"
   ]
  },
  {
   "cell_type": "code",
   "execution_count": 119,
   "metadata": {},
   "outputs": [],
   "source": [
    "import os\n",
    "import numpy as np\n",
    "import pandas as pd\n",
    "import seaborn as sns\n",
    "import matplotlib.pyplot as plt\n",
    "SEED = 42"
   ]
  },
  {
   "cell_type": "code",
   "execution_count": 120,
   "metadata": {},
   "outputs": [
    {
     "name": "stderr",
     "output_type": "stream",
     "text": [
      "C:\\Users\\Maeln\\AppData\\Local\\Temp\\ipykernel_12604\\944647120.py:1: DtypeWarning: Columns (4,8) have mixed types. Specify dtype option on import or set low_memory=False.\n",
      "  df = pd.read_csv('./data/all_data.csv', index_col=[0])\n"
     ]
    }
   ],
   "source": [
    "df = pd.read_csv('./data/all_data.csv', index_col=[0])\n",
    "#Nombre de lignes de \"all_data\" ?"
   ]
  },
  {
   "cell_type": "markdown",
   "metadata": {},
   "source": [
    "#### Gestion des valeurs manquantes"
   ]
  },
  {
   "cell_type": "code",
   "execution_count": 121,
   "metadata": {},
   "outputs": [
    {
     "data": {
      "text/plain": [
       "MaritalStatus    23246\n",
       "JobCode          23246\n",
       "OccurDate        25307\n",
       "Payment          25307\n",
       "IDclaim          25307\n",
       "Guarantee        25307\n",
       "dtype: int64"
      ]
     },
     "execution_count": 121,
     "metadata": {},
     "output_type": "execute_result"
    }
   ],
   "source": [
    "nan_counts = df.isna().sum()\n",
    "# Filter columns with NaN values\n",
    "columns_with_nan = nan_counts[nan_counts > 0]\n",
    "columns_with_nan"
   ]
  },
  {
   "cell_type": "code",
   "execution_count": 122,
   "metadata": {},
   "outputs": [
    {
     "name": "stdout",
     "output_type": "stream",
     "text": [
      "Treating column :  MaritalStatus\n",
      "Number of missing values :  23246\n",
      "MaritalStatus\n",
      "Cohabiting    7105\n",
      "Married       2365\n",
      "Single        1361\n",
      "Widowed        340\n",
      "Divorced       136\n",
      "Name: count, dtype: int64\n",
      "\n",
      "\n",
      "Treating column :  JobCode\n",
      "Number of missing values :  23246\n",
      "JobCode\n",
      "Private employee    6091\n",
      "Public employee     3338\n",
      "Retiree              690\n",
      "Other                565\n",
      "Craftsman            438\n",
      "Farmer               167\n",
      "Retailer              18\n",
      "Name: count, dtype: int64\n",
      "\n",
      "\n",
      "Treating column :  OccurDate\n",
      "Number of missing values :  25307\n",
      "OccurDate\n",
      "2003-01-20    28\n",
      "2004-07-16    27\n",
      "2004-11-30    26\n",
      "2003-05-18    26\n",
      "2003-01-08    25\n",
      "              ..\n",
      "2003-03-21     3\n",
      "2004-05-05     2\n",
      "2003-08-29     2\n",
      "2003-07-25     2\n",
      "2004-06-09     2\n",
      "Name: count, Length: 722, dtype: int64\n",
      "\n",
      "\n",
      "Treating column :  Payment\n",
      "Number of missing values :  25307\n",
      "Payment\n",
      "897.0     448\n",
      "0.0       328\n",
      "915.0     215\n",
      "1121.0     92\n",
      "199.0      34\n",
      "         ... \n",
      "1471.0      1\n",
      "6734.0      1\n",
      "3043.0      1\n",
      "3594.0      1\n",
      "3711.0      1\n",
      "Name: count, Length: 2250, dtype: int64\n",
      "\n",
      "\n",
      "Treating column :  IDclaim\n",
      "Number of missing values :  25307\n",
      "IDclaim\n",
      "9731.0       7\n",
      "201827.0     6\n",
      "8175.0       5\n",
      "204940.0     5\n",
      "10060.0      5\n",
      "            ..\n",
      "1202023.0    1\n",
      "202023.0     1\n",
      "9796.0       1\n",
      "1206775.0    1\n",
      "12605.0      1\n",
      "Name: count, Length: 8968, dtype: int64\n",
      "\n",
      "\n",
      "Treating column :  Guarantee\n",
      "Number of missing values :  25307\n",
      "Guarantee\n",
      "TPL           4202\n",
      "Windscreen    3196\n",
      "Damage         953\n",
      "Theft          575\n",
      "Other          213\n",
      "Fire           107\n",
      "Name: count, dtype: int64\n",
      "\n",
      "\n"
     ]
    }
   ],
   "source": [
    "for i in columns_with_nan.keys():\n",
    "    print('Treating column : ', i)\n",
    "    print('Number of missing values : ', df[i].isna().sum())\n",
    "    print(df[i].value_counts())\n",
    "    print('\\n')"
   ]
  },
  {
   "cell_type": "code",
   "execution_count": 123,
   "metadata": {},
   "outputs": [],
   "source": [
    "for i in ['MaritalStatus', 'JobCode']:\n",
    "    df[i].fillna('Unknown', inplace = True)"
   ]
  },
  {
   "cell_type": "code",
   "execution_count": 124,
   "metadata": {},
   "outputs": [
    {
     "data": {
      "text/plain": [
       "OccurDate    25307\n",
       "Payment      25307\n",
       "IDclaim      25307\n",
       "Guarantee    25307\n",
       "dtype: int64"
      ]
     },
     "execution_count": 124,
     "metadata": {},
     "output_type": "execute_result"
    }
   ],
   "source": [
    "nan_counts = df.isna().sum()\n",
    "# Filter columns with NaN values\n",
    "columns_with_nan = nan_counts[nan_counts > 0]\n",
    "columns_with_nan"
   ]
  },
  {
   "cell_type": "markdown",
   "metadata": {},
   "source": [
    "#### Création de la variable d'intérêt"
   ]
  },
  {
   "cell_type": "code",
   "execution_count": 125,
   "metadata": {},
   "outputs": [],
   "source": [
    "df['GotClaim'] = df['Payment'].notna().astype(float)\n",
    "df.drop(columns = ['OccurDate', 'Payment', 'IDclaim', 'Guarantee', 'Damage', 'Fire', 'Other', 'Theft', 'TPL', 'Windscreen'], inplace=True)\n"
   ]
  },
  {
   "cell_type": "code",
   "execution_count": 126,
   "metadata": {},
   "outputs": [],
   "source": [
    "from sklearn.model_selection import train_test_split\n",
    "\n",
    "train_df, test_df = train_test_split(df, test_size=0.2, random_state=42)\n"
   ]
  },
  {
   "cell_type": "code",
   "execution_count": 127,
   "metadata": {},
   "outputs": [],
   "source": [
    "train_df.to_csv('./data/train.csv')\n",
    "test_df.to_csv('./data/test.csv')"
   ]
  },
  {
   "cell_type": "code",
   "execution_count": 128,
   "metadata": {},
   "outputs": [],
   "source": [
    "train = pd.read_csv('./data/train.csv', index_col=[0])\n",
    "test = pd.read_csv('./data/test.csv', index_col=[0])"
   ]
  },
  {
   "cell_type": "code",
   "execution_count": 129,
   "metadata": {},
   "outputs": [
    {
     "data": {
      "text/html": [
       "<div>\n",
       "<style scoped>\n",
       "    .dataframe tbody tr th:only-of-type {\n",
       "        vertical-align: middle;\n",
       "    }\n",
       "\n",
       "    .dataframe tbody tr th {\n",
       "        vertical-align: top;\n",
       "    }\n",
       "\n",
       "    .dataframe thead th {\n",
       "        text-align: right;\n",
       "    }\n",
       "</style>\n",
       "<table border=\"1\" class=\"dataframe\">\n",
       "  <thead>\n",
       "    <tr style=\"text-align: right;\">\n",
       "      <th></th>\n",
       "      <th>IDpol</th>\n",
       "      <th>DrivAge</th>\n",
       "      <th>DrivGender</th>\n",
       "      <th>MaritalStatus</th>\n",
       "      <th>BonusMalus</th>\n",
       "      <th>LicenceNb</th>\n",
       "      <th>PayFreq</th>\n",
       "      <th>JobCode</th>\n",
       "      <th>VehAge</th>\n",
       "      <th>VehClass</th>\n",
       "      <th>...</th>\n",
       "      <th>PremFire</th>\n",
       "      <th>PremAcc1</th>\n",
       "      <th>PremAcc2</th>\n",
       "      <th>PremLegal</th>\n",
       "      <th>PremTPLM</th>\n",
       "      <th>PremTPLV</th>\n",
       "      <th>PremServ</th>\n",
       "      <th>PremTheft</th>\n",
       "      <th>PremTot</th>\n",
       "      <th>GotClaim</th>\n",
       "    </tr>\n",
       "  </thead>\n",
       "  <tbody>\n",
       "    <tr>\n",
       "      <th>22083</th>\n",
       "      <td>90158529.100b</td>\n",
       "      <td>29.0</td>\n",
       "      <td>F</td>\n",
       "      <td>Unknown</td>\n",
       "      <td>64.0</td>\n",
       "      <td>2.0</td>\n",
       "      <td>Half-yearly</td>\n",
       "      <td>Unknown</td>\n",
       "      <td>6.0</td>\n",
       "      <td>Cheaper</td>\n",
       "      <td>...</td>\n",
       "      <td>9.0</td>\n",
       "      <td>37.0</td>\n",
       "      <td>0.0</td>\n",
       "      <td>12.0</td>\n",
       "      <td>182.5</td>\n",
       "      <td>10.0</td>\n",
       "      <td>57.0</td>\n",
       "      <td>88.0</td>\n",
       "      <td>419.5</td>\n",
       "      <td>1.0</td>\n",
       "    </tr>\n",
       "    <tr>\n",
       "      <th>23319</th>\n",
       "      <td>90168155.100a</td>\n",
       "      <td>30.0</td>\n",
       "      <td>F</td>\n",
       "      <td>Unknown</td>\n",
       "      <td>90.0</td>\n",
       "      <td>1.0</td>\n",
       "      <td>Annual</td>\n",
       "      <td>Unknown</td>\n",
       "      <td>9.0</td>\n",
       "      <td>Cheaper</td>\n",
       "      <td>...</td>\n",
       "      <td>0.0</td>\n",
       "      <td>36.0</td>\n",
       "      <td>0.0</td>\n",
       "      <td>15.0</td>\n",
       "      <td>352.0</td>\n",
       "      <td>19.0</td>\n",
       "      <td>55.0</td>\n",
       "      <td>0.0</td>\n",
       "      <td>477.0</td>\n",
       "      <td>0.0</td>\n",
       "    </tr>\n",
       "    <tr>\n",
       "      <th>30662</th>\n",
       "      <td>90147484.101a</td>\n",
       "      <td>42.0</td>\n",
       "      <td>M</td>\n",
       "      <td>Unknown</td>\n",
       "      <td>50.0</td>\n",
       "      <td>2.0</td>\n",
       "      <td>Half-yearly</td>\n",
       "      <td>Unknown</td>\n",
       "      <td>3.0</td>\n",
       "      <td>Medium low</td>\n",
       "      <td>...</td>\n",
       "      <td>13.0</td>\n",
       "      <td>0.0</td>\n",
       "      <td>0.0</td>\n",
       "      <td>17.0</td>\n",
       "      <td>224.9</td>\n",
       "      <td>12.0</td>\n",
       "      <td>57.0</td>\n",
       "      <td>105.0</td>\n",
       "      <td>760.9</td>\n",
       "      <td>0.0</td>\n",
       "    </tr>\n",
       "    <tr>\n",
       "      <th>17190</th>\n",
       "      <td>90131741.100b</td>\n",
       "      <td>29.0</td>\n",
       "      <td>M</td>\n",
       "      <td>Unknown</td>\n",
       "      <td>85.0</td>\n",
       "      <td>2.0</td>\n",
       "      <td>Half-yearly</td>\n",
       "      <td>Unknown</td>\n",
       "      <td>14.0</td>\n",
       "      <td>Cheaper</td>\n",
       "      <td>...</td>\n",
       "      <td>0.0</td>\n",
       "      <td>35.0</td>\n",
       "      <td>0.0</td>\n",
       "      <td>10.0</td>\n",
       "      <td>196.6</td>\n",
       "      <td>0.0</td>\n",
       "      <td>58.0</td>\n",
       "      <td>0.0</td>\n",
       "      <td>299.6</td>\n",
       "      <td>1.0</td>\n",
       "    </tr>\n",
       "    <tr>\n",
       "      <th>11823</th>\n",
       "      <td>90185369.101a</td>\n",
       "      <td>44.0</td>\n",
       "      <td>M</td>\n",
       "      <td>Unknown</td>\n",
       "      <td>50.0</td>\n",
       "      <td>2.0</td>\n",
       "      <td>Annual</td>\n",
       "      <td>Unknown</td>\n",
       "      <td>6.0</td>\n",
       "      <td>Medium low</td>\n",
       "      <td>...</td>\n",
       "      <td>6.0</td>\n",
       "      <td>0.0</td>\n",
       "      <td>0.0</td>\n",
       "      <td>10.0</td>\n",
       "      <td>124.2</td>\n",
       "      <td>6.0</td>\n",
       "      <td>50.0</td>\n",
       "      <td>76.0</td>\n",
       "      <td>455.2</td>\n",
       "      <td>0.0</td>\n",
       "    </tr>\n",
       "  </tbody>\n",
       "</table>\n",
       "<p>5 rows × 30 columns</p>\n",
       "</div>"
      ],
      "text/plain": [
       "               IDpol  DrivAge DrivGender MaritalStatus  BonusMalus  LicenceNb  \\\n",
       "22083  90158529.100b     29.0          F       Unknown        64.0        2.0   \n",
       "23319  90168155.100a     30.0          F       Unknown        90.0        1.0   \n",
       "30662  90147484.101a     42.0          M       Unknown        50.0        2.0   \n",
       "17190  90131741.100b     29.0          M       Unknown        85.0        2.0   \n",
       "11823  90185369.101a     44.0          M       Unknown        50.0        2.0   \n",
       "\n",
       "           PayFreq  JobCode  VehAge    VehClass  ... PremFire PremAcc1  \\\n",
       "22083  Half-yearly  Unknown     6.0     Cheaper  ...      9.0     37.0   \n",
       "23319       Annual  Unknown     9.0     Cheaper  ...      0.0     36.0   \n",
       "30662  Half-yearly  Unknown     3.0  Medium low  ...     13.0      0.0   \n",
       "17190  Half-yearly  Unknown    14.0     Cheaper  ...      0.0     35.0   \n",
       "11823       Annual  Unknown     6.0  Medium low  ...      6.0      0.0   \n",
       "\n",
       "      PremAcc2 PremLegal PremTPLM PremTPLV PremServ PremTheft  PremTot  \\\n",
       "22083      0.0      12.0    182.5     10.0     57.0      88.0    419.5   \n",
       "23319      0.0      15.0    352.0     19.0     55.0       0.0    477.0   \n",
       "30662      0.0      17.0    224.9     12.0     57.0     105.0    760.9   \n",
       "17190      0.0      10.0    196.6      0.0     58.0       0.0    299.6   \n",
       "11823      0.0      10.0    124.2      6.0     50.0      76.0    455.2   \n",
       "\n",
       "       GotClaim  \n",
       "22083       1.0  \n",
       "23319       0.0  \n",
       "30662       0.0  \n",
       "17190       1.0  \n",
       "11823       0.0  \n",
       "\n",
       "[5 rows x 30 columns]"
      ]
     },
     "execution_count": 129,
     "metadata": {},
     "output_type": "execute_result"
    }
   ],
   "source": [
    "train.head()"
   ]
  },
  {
   "cell_type": "code",
   "execution_count": 130,
   "metadata": {},
   "outputs": [
    {
     "data": {
      "text/plain": [
       "Index(['IDpol', 'DrivAge', 'DrivGender', 'MaritalStatus', 'BonusMalus',\n",
       "       'LicenceNb', 'PayFreq', 'JobCode', 'VehAge', 'VehClass', 'VehPower',\n",
       "       'VehGas', 'VehUsage', 'Garage', 'Area', 'Region', 'Channel',\n",
       "       'Marketing', 'PremWindscreen', 'PremDamAll', 'PremFire', 'PremAcc1',\n",
       "       'PremAcc2', 'PremLegal', 'PremTPLM', 'PremTPLV', 'PremServ',\n",
       "       'PremTheft', 'PremTot', 'GotClaim'],\n",
       "      dtype='object')"
      ]
     },
     "execution_count": 130,
     "metadata": {},
     "output_type": "execute_result"
    }
   ],
   "source": [
    "train.columns"
   ]
  },
  {
   "cell_type": "markdown",
   "metadata": {},
   "source": [
    "Format data (int to int, categorical variables and so on...)"
   ]
  },
  {
   "cell_type": "code",
   "execution_count": 131,
   "metadata": {},
   "outputs": [],
   "source": [
    "numeric_features = ['DrivAge', 'VehAge', 'BonusMalus', 'PremWindscreen', 'PremDamAll', 'PremFire', 'PremAcc1', 'PremAcc2', \n",
    "                     'PremLegal', 'PremTPLM', 'PremTPLV', 'PremServ', 'PremTheft']\n",
    "\n",
    "categorical_features = ['DrivGender', 'MaritalStatus', 'LicenceNb', 'PayFreq', 'JobCode', 'VehClass', 'VehPower', \n",
    "                       'VehGas', 'VehUsage', 'Garage', 'Area', 'Region', 'Channel', 'Marketing']"
   ]
  },
  {
   "cell_type": "code",
   "execution_count": 132,
   "metadata": {},
   "outputs": [
    {
     "data": {
      "text/plain": [
       "IDpol              object\n",
       "DrivAge           float64\n",
       "DrivGender         object\n",
       "MaritalStatus      object\n",
       "BonusMalus        float64\n",
       "LicenceNb         float64\n",
       "PayFreq            object\n",
       "JobCode            object\n",
       "VehAge            float64\n",
       "VehClass           object\n",
       "VehPower           object\n",
       "VehGas             object\n",
       "VehUsage           object\n",
       "Garage             object\n",
       "Area               object\n",
       "Region             object\n",
       "Channel            object\n",
       "Marketing          object\n",
       "PremWindscreen    float64\n",
       "PremDamAll        float64\n",
       "PremFire          float64\n",
       "PremAcc1          float64\n",
       "PremAcc2          float64\n",
       "PremLegal         float64\n",
       "PremTPLM          float64\n",
       "PremTPLV          float64\n",
       "PremServ          float64\n",
       "PremTheft         float64\n",
       "PremTot           float64\n",
       "GotClaim          float64\n",
       "dtype: object"
      ]
     },
     "execution_count": 132,
     "metadata": {},
     "output_type": "execute_result"
    }
   ],
   "source": [
    "train.dtypes"
   ]
  },
  {
   "cell_type": "markdown",
   "metadata": {},
   "source": [
    "### Sélection de variables [RAPPORT]\n",
    "\n",
    "Nous avons cherché à sélectionner, parmi les variables explicatives quantitatitives et qualitatives, celles qui ont une incidence significative sur l'occurence d'un sinistre.\n",
    "\n",
    "Pour les variables quantitatives, nous sommes intéressé à la valeur du coefficient de corrélation. Pour les variables quantitatives, nous avons utilisé une méthode ANOVA."
   ]
  },
  {
   "cell_type": "code",
   "execution_count": null,
   "metadata": {},
   "outputs": [
    {
     "name": "stdout",
     "output_type": "stream",
     "text": [
      "DrivAge           float64\n",
      "DrivGender         object\n",
      "MaritalStatus      object\n",
      "BonusMalus        float64\n",
      "LicenceNb          object\n",
      "PayFreq            object\n",
      "JobCode            object\n",
      "VehAge            float64\n",
      "VehClass           object\n",
      "VehPower           object\n",
      "VehGas             object\n",
      "VehUsage           object\n",
      "Garage             object\n",
      "Area               object\n",
      "Region             object\n",
      "Channel            object\n",
      "Marketing          object\n",
      "PremWindscreen    float64\n",
      "PremDamAll        float64\n",
      "PremFire          float64\n",
      "PremAcc1          float64\n",
      "PremAcc2          float64\n",
      "PremLegal         float64\n",
      "PremTPLM          float64\n",
      "PremTPLV          float64\n",
      "PremServ          float64\n",
      "PremTheft         float64\n",
      "PremTot           float64\n",
      "Payment           float64\n",
      "dtype: object\n"
     ]
    },
    {
     "name": "stderr",
     "output_type": "stream",
     "text": [
      "C:\\Users\\Maeln\\AppData\\Local\\Temp\\ipykernel_12604\\1676890421.py:1: DtypeWarning: Columns (4,8) have mixed types. Specify dtype option on import or set low_memory=False.\n",
      "  df_bis=pd.read_csv('./data/all_data.csv', index_col=[0])\n"
     ]
    }
   ],
   "source": [
    "df_bis=pd.read_csv('./data/all_data.csv', index_col=[0])\n",
    "df_bis.drop(columns = ['OccurDate', 'IDclaim', 'Guarantee', 'Damage', 'Fire', 'Other', 'Theft', 'TPL', 'Windscreen'], inplace=True)\n",
    "df_bis['Payment'] = df_bis['Payment'].fillna(0)\n",
    "df_bis['LicenceNb'] = df_bis['LicenceNb'].astype('object')\n",
    "\n",
    "print(df_bis.dtypes)"
   ]
  },
  {
   "cell_type": "markdown",
   "metadata": {},
   "source": [
    "[RAPPORT] Nous avons donc calculé les coefficients de corrélation entre chacune des variables qualitatives et la variable 'Payment' (qui vaut 0 s'il n'y a pas eu de sinistre pour une police donnée et le montant du sinistre le cas échéant). Les valeurs obtenues sont les suivantes : "
   ]
  },
  {
   "cell_type": "code",
   "execution_count": 136,
   "metadata": {},
   "outputs": [
    {
     "ename": "ValueError",
     "evalue": "could not convert string to float: 'F'",
     "output_type": "error",
     "traceback": [
      "\u001b[1;31m---------------------------------------------------------------------------\u001b[0m",
      "\u001b[1;31mValueError\u001b[0m                                Traceback (most recent call last)",
      "Cell \u001b[1;32mIn[136], line 14\u001b[0m\n\u001b[0;32m     11\u001b[0m df_bis[numerical_columns] \u001b[38;5;241m=\u001b[39m scaler\u001b[38;5;241m.\u001b[39mfit_transform(df_bis[numerical_columns])\n\u001b[0;32m     13\u001b[0m \u001b[38;5;66;03m# Calculer la nouvelle matrice de corrélation\u001b[39;00m\n\u001b[1;32m---> 14\u001b[0m normalized_correlation_matrix \u001b[38;5;241m=\u001b[39m \u001b[43mdf_bis\u001b[49m\u001b[38;5;241;43m.\u001b[39;49m\u001b[43mcorr\u001b[49m\u001b[43m(\u001b[49m\u001b[43m)\u001b[49m\n\u001b[0;32m     16\u001b[0m \u001b[38;5;66;03m# Créer une heatmap pour la nouvelle matrice de corrélation\u001b[39;00m\n\u001b[0;32m     17\u001b[0m plt\u001b[38;5;241m.\u001b[39mfigure(figsize\u001b[38;5;241m=\u001b[39m(\u001b[38;5;241m12\u001b[39m, \u001b[38;5;241m10\u001b[39m))\n",
      "File \u001b[1;32m~\\AppData\\Local\\Packages\\PythonSoftwareFoundation.Python.3.12_qbz5n2kfra8p0\\LocalCache\\local-packages\\Python312\\site-packages\\pandas\\core\\frame.py:10704\u001b[0m, in \u001b[0;36mDataFrame.corr\u001b[1;34m(self, method, min_periods, numeric_only)\u001b[0m\n\u001b[0;32m  10702\u001b[0m cols \u001b[38;5;241m=\u001b[39m data\u001b[38;5;241m.\u001b[39mcolumns\n\u001b[0;32m  10703\u001b[0m idx \u001b[38;5;241m=\u001b[39m cols\u001b[38;5;241m.\u001b[39mcopy()\n\u001b[1;32m> 10704\u001b[0m mat \u001b[38;5;241m=\u001b[39m \u001b[43mdata\u001b[49m\u001b[38;5;241;43m.\u001b[39;49m\u001b[43mto_numpy\u001b[49m\u001b[43m(\u001b[49m\u001b[43mdtype\u001b[49m\u001b[38;5;241;43m=\u001b[39;49m\u001b[38;5;28;43mfloat\u001b[39;49m\u001b[43m,\u001b[49m\u001b[43m \u001b[49m\u001b[43mna_value\u001b[49m\u001b[38;5;241;43m=\u001b[39;49m\u001b[43mnp\u001b[49m\u001b[38;5;241;43m.\u001b[39;49m\u001b[43mnan\u001b[49m\u001b[43m,\u001b[49m\u001b[43m \u001b[49m\u001b[43mcopy\u001b[49m\u001b[38;5;241;43m=\u001b[39;49m\u001b[38;5;28;43;01mFalse\u001b[39;49;00m\u001b[43m)\u001b[49m\n\u001b[0;32m  10706\u001b[0m \u001b[38;5;28;01mif\u001b[39;00m method \u001b[38;5;241m==\u001b[39m \u001b[38;5;124m\"\u001b[39m\u001b[38;5;124mpearson\u001b[39m\u001b[38;5;124m\"\u001b[39m:\n\u001b[0;32m  10707\u001b[0m     correl \u001b[38;5;241m=\u001b[39m libalgos\u001b[38;5;241m.\u001b[39mnancorr(mat, minp\u001b[38;5;241m=\u001b[39mmin_periods)\n",
      "File \u001b[1;32m~\\AppData\\Local\\Packages\\PythonSoftwareFoundation.Python.3.12_qbz5n2kfra8p0\\LocalCache\\local-packages\\Python312\\site-packages\\pandas\\core\\frame.py:1889\u001b[0m, in \u001b[0;36mDataFrame.to_numpy\u001b[1;34m(self, dtype, copy, na_value)\u001b[0m\n\u001b[0;32m   1887\u001b[0m \u001b[38;5;28;01mif\u001b[39;00m dtype \u001b[38;5;129;01mis\u001b[39;00m \u001b[38;5;129;01mnot\u001b[39;00m \u001b[38;5;28;01mNone\u001b[39;00m:\n\u001b[0;32m   1888\u001b[0m     dtype \u001b[38;5;241m=\u001b[39m np\u001b[38;5;241m.\u001b[39mdtype(dtype)\n\u001b[1;32m-> 1889\u001b[0m result \u001b[38;5;241m=\u001b[39m \u001b[38;5;28;43mself\u001b[39;49m\u001b[38;5;241;43m.\u001b[39;49m\u001b[43m_mgr\u001b[49m\u001b[38;5;241;43m.\u001b[39;49m\u001b[43mas_array\u001b[49m\u001b[43m(\u001b[49m\u001b[43mdtype\u001b[49m\u001b[38;5;241;43m=\u001b[39;49m\u001b[43mdtype\u001b[49m\u001b[43m,\u001b[49m\u001b[43m \u001b[49m\u001b[43mcopy\u001b[49m\u001b[38;5;241;43m=\u001b[39;49m\u001b[43mcopy\u001b[49m\u001b[43m,\u001b[49m\u001b[43m \u001b[49m\u001b[43mna_value\u001b[49m\u001b[38;5;241;43m=\u001b[39;49m\u001b[43mna_value\u001b[49m\u001b[43m)\u001b[49m\n\u001b[0;32m   1890\u001b[0m \u001b[38;5;28;01mif\u001b[39;00m result\u001b[38;5;241m.\u001b[39mdtype \u001b[38;5;129;01mis\u001b[39;00m \u001b[38;5;129;01mnot\u001b[39;00m dtype:\n\u001b[0;32m   1891\u001b[0m     result \u001b[38;5;241m=\u001b[39m np\u001b[38;5;241m.\u001b[39marray(result, dtype\u001b[38;5;241m=\u001b[39mdtype, copy\u001b[38;5;241m=\u001b[39m\u001b[38;5;28;01mFalse\u001b[39;00m)\n",
      "File \u001b[1;32m~\\AppData\\Local\\Packages\\PythonSoftwareFoundation.Python.3.12_qbz5n2kfra8p0\\LocalCache\\local-packages\\Python312\\site-packages\\pandas\\core\\internals\\managers.py:1656\u001b[0m, in \u001b[0;36mBlockManager.as_array\u001b[1;34m(self, dtype, copy, na_value)\u001b[0m\n\u001b[0;32m   1654\u001b[0m         arr\u001b[38;5;241m.\u001b[39mflags\u001b[38;5;241m.\u001b[39mwriteable \u001b[38;5;241m=\u001b[39m \u001b[38;5;28;01mFalse\u001b[39;00m\n\u001b[0;32m   1655\u001b[0m \u001b[38;5;28;01melse\u001b[39;00m:\n\u001b[1;32m-> 1656\u001b[0m     arr \u001b[38;5;241m=\u001b[39m \u001b[38;5;28;43mself\u001b[39;49m\u001b[38;5;241;43m.\u001b[39;49m\u001b[43m_interleave\u001b[49m\u001b[43m(\u001b[49m\u001b[43mdtype\u001b[49m\u001b[38;5;241;43m=\u001b[39;49m\u001b[43mdtype\u001b[49m\u001b[43m,\u001b[49m\u001b[43m \u001b[49m\u001b[43mna_value\u001b[49m\u001b[38;5;241;43m=\u001b[39;49m\u001b[43mna_value\u001b[49m\u001b[43m)\u001b[49m\n\u001b[0;32m   1657\u001b[0m     \u001b[38;5;66;03m# The underlying data was copied within _interleave, so no need\u001b[39;00m\n\u001b[0;32m   1658\u001b[0m     \u001b[38;5;66;03m# to further copy if copy=True or setting na_value\u001b[39;00m\n\u001b[0;32m   1660\u001b[0m \u001b[38;5;28;01mif\u001b[39;00m na_value \u001b[38;5;129;01mis\u001b[39;00m lib\u001b[38;5;241m.\u001b[39mno_default:\n",
      "File \u001b[1;32m~\\AppData\\Local\\Packages\\PythonSoftwareFoundation.Python.3.12_qbz5n2kfra8p0\\LocalCache\\local-packages\\Python312\\site-packages\\pandas\\core\\internals\\managers.py:1715\u001b[0m, in \u001b[0;36mBlockManager._interleave\u001b[1;34m(self, dtype, na_value)\u001b[0m\n\u001b[0;32m   1713\u001b[0m     \u001b[38;5;28;01melse\u001b[39;00m:\n\u001b[0;32m   1714\u001b[0m         arr \u001b[38;5;241m=\u001b[39m blk\u001b[38;5;241m.\u001b[39mget_values(dtype)\n\u001b[1;32m-> 1715\u001b[0m     \u001b[43mresult\u001b[49m\u001b[43m[\u001b[49m\u001b[43mrl\u001b[49m\u001b[38;5;241;43m.\u001b[39;49m\u001b[43mindexer\u001b[49m\u001b[43m]\u001b[49m \u001b[38;5;241m=\u001b[39m arr\n\u001b[0;32m   1716\u001b[0m     itemmask[rl\u001b[38;5;241m.\u001b[39mindexer] \u001b[38;5;241m=\u001b[39m \u001b[38;5;241m1\u001b[39m\n\u001b[0;32m   1718\u001b[0m \u001b[38;5;28;01mif\u001b[39;00m \u001b[38;5;129;01mnot\u001b[39;00m itemmask\u001b[38;5;241m.\u001b[39mall():\n",
      "\u001b[1;31mValueError\u001b[0m: could not convert string to float: 'F'"
     ]
    }
   ],
   "source": [
    "from sklearn.preprocessing import StandardScaler\n",
    "\n",
    "# Sélectionner uniquement les colonnes numériques pour la normalisation\n",
    "numerical_columns = df_bis.select_dtypes(include=['float64', 'int64']).columns\n",
    "\n",
    "\n",
    "# Créer un objet StandardScaler\n",
    "scaler = StandardScaler()\n",
    "\n",
    "# Normaliser les variables numériques\n",
    "df_bis[numerical_columns] = scaler.fit_transform(df_bis[numerical_columns])\n",
    "\n",
    "# Calculer la nouvelle matrice de corrélation\n",
    "normalized_correlation_matrix = df_bis.corr()\n",
    "\n",
    "# Créer une heatmap pour la nouvelle matrice de corrélation\n",
    "plt.figure(figsize=(12, 10))\n",
    "sns.heatmap(normalized_correlation_matrix['Payment'].to_frame(), annot=True, cmap='coolwarm', fmt=\".2f\", linewidths=.5)\n",
    "plt.title(\"Corrélation normalisée de 'Payment' avec les autres variables\")\n",
    "plt.show()"
   ]
  },
  {
   "cell_type": "markdown",
   "metadata": {},
   "source": [
    "[RAPPORT] Au vu de la nullité des coefficients de corrélation pour certaines variables, on fait le choix de supprimer les variables 'DrivAge', 'PremAcc2' et 'PremServ' de l'étude."
   ]
  },
  {
   "cell_type": "code",
   "execution_count": 79,
   "metadata": {},
   "outputs": [
    {
     "name": "stdout",
     "output_type": "stream",
     "text": [
      "\n",
      "Variable Catégorielle : Area\n",
      "ANOVA Statistique de test F : 0.6052332865759522\n",
      "ANOVA p-value : 0.7937116612445104\n",
      "\n",
      "Variable Catégorielle : Channel\n",
      "ANOVA Statistique de test F : 0.20117712577855637\n",
      "ANOVA p-value : 0.8177685289448734\n",
      "\n",
      "Variable Catégorielle : DrivGender\n",
      "ANOVA Statistique de test F : 2.825158525137541\n",
      "ANOVA p-value : 0.09280676821399773\n",
      "\n",
      "Variable Catégorielle : Garage\n",
      "ANOVA Statistique de test F : 0.10311958299037766\n",
      "ANOVA p-value : 0.9582582618854324\n",
      "\n",
      "Variable Catégorielle : IDpol\n",
      "ANOVA Statistique de test F : 0.07588158857281219\n",
      "ANOVA p-value : 0.9999999999999999\n",
      "\n",
      "Variable Catégorielle : JobCode\n",
      "ANOVA Statistique de test F : 2.887426232852525\n",
      "ANOVA p-value : 0.008194796924732151\n",
      "\n",
      "Variable Catégorielle : LicenceNb\n",
      "ANOVA Statistique de test F : 0.09011937891873975\n",
      "ANOVA p-value : 0.9973067862017588\n",
      "\n",
      "Variable Catégorielle : MaritalStatus\n",
      "ANOVA Statistique de test F : 0.13981354888488814\n",
      "ANOVA p-value : 0.9674782967494423\n",
      "\n",
      "Variable Catégorielle : Marketing\n",
      "ANOVA Statistique de test F : 0.10311958299037764\n",
      "ANOVA p-value : 0.9582582618854324\n",
      "\n",
      "Variable Catégorielle : PayFreq\n",
      "ANOVA Statistique de test F : 0.617294947835349\n",
      "ANOVA p-value : 0.6037147273286647\n",
      "\n",
      "Variable Catégorielle : Region\n",
      "ANOVA Statistique de test F : 2.7046402237569493\n",
      "ANOVA p-value : 0.04373148071853649\n",
      "\n",
      "Variable Catégorielle : VehClass\n",
      "ANOVA Statistique de test F : 0.7196996764879157\n",
      "ANOVA p-value : 0.6743611871449645\n",
      "\n",
      "Variable Catégorielle : VehGas\n",
      "ANOVA Statistique de test F : 3.7370664343709827\n",
      "ANOVA p-value : 0.05322596166479647\n",
      "\n",
      "Variable Catégorielle : VehPower\n",
      "ANOVA Statistique de test F : 1.0143618244716164\n",
      "ANOVA p-value : 0.43487468604582386\n",
      "\n",
      "Variable Catégorielle : VehUsage\n",
      "ANOVA Statistique de test F : 0.22653859715646954\n",
      "ANOVA p-value : 0.7972897529166577\n"
     ]
    }
   ],
   "source": [
    "from scipy.stats import f_oneway\n",
    "\n",
    "# Sélectionner toutes les colonnes catégorielles sauf 'Payment'\n",
    "categorical_columns = df_bis.select_dtypes(include=['object']).columns.difference(['Payment'])\n",
    "\n",
    "# La variable quantitative (dans ce cas, 'Payment')\n",
    "quantitative_variable = 'Payment'\n",
    "\n",
    "# Initialiser une liste pour stocker les résultats\n",
    "anova_results = []\n",
    "\n",
    "# Effectuer l'ANOVA pour chaque variable catégorielle\n",
    "for category_column in categorical_columns:\n",
    "    # Groupement par catégorie\n",
    "    category_groups = [group[1][quantitative_variable] for group in df_bis.groupby(category_column)]\n",
    "    \n",
    "    # Effectuer l'ANOVA\n",
    "    anova_result = f_oneway(*category_groups)\n",
    "    \n",
    "    # Ajouter les résultats à la liste\n",
    "    anova_results.append({\n",
    "        'Variable_Catégorielle': category_column,\n",
    "        'ANOVA_Statistique_de_test_F': anova_result.statistic,\n",
    "        'ANOVA_p-value': anova_result.pvalue\n",
    "    })\n",
    "\n",
    "# Afficher les résultats\n",
    "for result in anova_results:\n",
    "    print(f\"\\nVariable Catégorielle : {result['Variable_Catégorielle']}\")\n",
    "    print(\"ANOVA Statistique de test F :\", result['ANOVA_Statistique_de_test_F'])\n",
    "    print(\"ANOVA p-value :\", result['ANOVA_p-value'])"
   ]
  },
  {
   "cell_type": "code",
   "execution_count": 80,
   "metadata": {},
   "outputs": [],
   "source": [
    "%%capture\n",
    "import statsmodels.api as sm\n",
    "import statsmodels.graphics.gofplots as smg\n",
    "\n",
    "# Effectuer l'ANOVA pour chaque variable catégorielle\n",
    "for category_column in categorical_columns:\n",
    "    # Groupement par catégorie\n",
    "    category_groups = [group[1][quantitative_variable] for group in df_bis.groupby(category_column)]\n",
    "    \n",
    "    # Effectuer l'ANOVA\n",
    "    anova_result = f_oneway(*category_groups)\n",
    "    \n",
    "    # Récupérer les résidus\n",
    "    residuals = [group[1][quantitative_variable] - group[1][quantitative_variable].mean() for group in df_bis.groupby(category_column)]\n",
    "    flattened_residuals = [residual for sublist in residuals for residual in sublist]\n",
    "\n",
    "    # Créer un QQ plot\n",
    "    qq_plot = smg.qqplot(np.array(flattened_residuals), line='s')  # 's' pour ligne de référence (droite de 45 degrés)\n",
    "\n",
    "    # Ajouter un titre\n",
    "    plt.title(f\"QQ Plot des résidus - {category_column}\")\n",
    "\n",
    "    # Afficher le QQ plot\n",
    "    plt.show()"
   ]
  },
  {
   "cell_type": "markdown",
   "metadata": {},
   "source": [
    "[RAPPORT]\n",
    "Nous avons effectué un test ANOVA afin de déterminer la significativité des varaibles quantitatives. Au vu des différentes p-valeur obtenues et de la normalité des résidus, nous avons conclu que les variables pour lesquelles on ne rejette pas l'hypothèse selon laquelle leur effet est peu significatif sont les variables 'Garage', 'LicenceNb' et 'Marketing'. Nous avons donc supprimé ces variables de l'étude. Par ailleurs, les variables significatives sont les variables 'JobCode', 'VehGas' et 'Region'."
   ]
  },
  {
   "cell_type": "code",
   "execution_count": 137,
   "metadata": {},
   "outputs": [
    {
     "data": {
      "text/html": [
       "<div>\n",
       "<style scoped>\n",
       "    .dataframe tbody tr th:only-of-type {\n",
       "        vertical-align: middle;\n",
       "    }\n",
       "\n",
       "    .dataframe tbody tr th {\n",
       "        vertical-align: top;\n",
       "    }\n",
       "\n",
       "    .dataframe thead th {\n",
       "        text-align: right;\n",
       "    }\n",
       "</style>\n",
       "<table border=\"1\" class=\"dataframe\">\n",
       "  <thead>\n",
       "    <tr style=\"text-align: right;\">\n",
       "      <th></th>\n",
       "      <th>DrivGender</th>\n",
       "      <th>MaritalStatus</th>\n",
       "      <th>BonusMalus</th>\n",
       "      <th>PayFreq</th>\n",
       "      <th>JobCode</th>\n",
       "      <th>VehAge</th>\n",
       "      <th>VehClass</th>\n",
       "      <th>VehPower</th>\n",
       "      <th>VehGas</th>\n",
       "      <th>VehUsage</th>\n",
       "      <th>...</th>\n",
       "      <th>PremWindscreen</th>\n",
       "      <th>PremDamAll</th>\n",
       "      <th>PremFire</th>\n",
       "      <th>PremAcc1</th>\n",
       "      <th>PremLegal</th>\n",
       "      <th>PremTPLM</th>\n",
       "      <th>PremTPLV</th>\n",
       "      <th>PremTheft</th>\n",
       "      <th>PremTot</th>\n",
       "      <th>GotClaim</th>\n",
       "    </tr>\n",
       "  </thead>\n",
       "  <tbody>\n",
       "    <tr>\n",
       "      <th>22083</th>\n",
       "      <td>F</td>\n",
       "      <td>Unknown</td>\n",
       "      <td>64.0</td>\n",
       "      <td>Half-yearly</td>\n",
       "      <td>Unknown</td>\n",
       "      <td>6.0</td>\n",
       "      <td>Cheaper</td>\n",
       "      <td>P11</td>\n",
       "      <td>Regular</td>\n",
       "      <td>Private+trip to office</td>\n",
       "      <td>...</td>\n",
       "      <td>24.0</td>\n",
       "      <td>0.0</td>\n",
       "      <td>9.0</td>\n",
       "      <td>37.0</td>\n",
       "      <td>12.0</td>\n",
       "      <td>182.5</td>\n",
       "      <td>10.0</td>\n",
       "      <td>88.0</td>\n",
       "      <td>419.5</td>\n",
       "      <td>1.0</td>\n",
       "    </tr>\n",
       "    <tr>\n",
       "      <th>23319</th>\n",
       "      <td>F</td>\n",
       "      <td>Unknown</td>\n",
       "      <td>90.0</td>\n",
       "      <td>Annual</td>\n",
       "      <td>Unknown</td>\n",
       "      <td>9.0</td>\n",
       "      <td>Cheaper</td>\n",
       "      <td>P11</td>\n",
       "      <td>Regular</td>\n",
       "      <td>Private+trip to office</td>\n",
       "      <td>...</td>\n",
       "      <td>0.0</td>\n",
       "      <td>0.0</td>\n",
       "      <td>0.0</td>\n",
       "      <td>36.0</td>\n",
       "      <td>15.0</td>\n",
       "      <td>352.0</td>\n",
       "      <td>19.0</td>\n",
       "      <td>0.0</td>\n",
       "      <td>477.0</td>\n",
       "      <td>0.0</td>\n",
       "    </tr>\n",
       "    <tr>\n",
       "      <th>30662</th>\n",
       "      <td>M</td>\n",
       "      <td>Unknown</td>\n",
       "      <td>50.0</td>\n",
       "      <td>Half-yearly</td>\n",
       "      <td>Unknown</td>\n",
       "      <td>3.0</td>\n",
       "      <td>Medium low</td>\n",
       "      <td>P14</td>\n",
       "      <td>Diesel</td>\n",
       "      <td>Professional</td>\n",
       "      <td>...</td>\n",
       "      <td>56.0</td>\n",
       "      <td>276.0</td>\n",
       "      <td>13.0</td>\n",
       "      <td>0.0</td>\n",
       "      <td>17.0</td>\n",
       "      <td>224.9</td>\n",
       "      <td>12.0</td>\n",
       "      <td>105.0</td>\n",
       "      <td>760.9</td>\n",
       "      <td>0.0</td>\n",
       "    </tr>\n",
       "    <tr>\n",
       "      <th>17190</th>\n",
       "      <td>M</td>\n",
       "      <td>Unknown</td>\n",
       "      <td>85.0</td>\n",
       "      <td>Half-yearly</td>\n",
       "      <td>Unknown</td>\n",
       "      <td>14.0</td>\n",
       "      <td>Cheaper</td>\n",
       "      <td>P9</td>\n",
       "      <td>Regular</td>\n",
       "      <td>Private+trip to office</td>\n",
       "      <td>...</td>\n",
       "      <td>0.0</td>\n",
       "      <td>0.0</td>\n",
       "      <td>0.0</td>\n",
       "      <td>35.0</td>\n",
       "      <td>10.0</td>\n",
       "      <td>196.6</td>\n",
       "      <td>0.0</td>\n",
       "      <td>0.0</td>\n",
       "      <td>299.6</td>\n",
       "      <td>1.0</td>\n",
       "    </tr>\n",
       "    <tr>\n",
       "      <th>11823</th>\n",
       "      <td>M</td>\n",
       "      <td>Unknown</td>\n",
       "      <td>50.0</td>\n",
       "      <td>Annual</td>\n",
       "      <td>Unknown</td>\n",
       "      <td>6.0</td>\n",
       "      <td>Medium low</td>\n",
       "      <td>P14</td>\n",
       "      <td>Diesel</td>\n",
       "      <td>Private+trip to office</td>\n",
       "      <td>...</td>\n",
       "      <td>32.0</td>\n",
       "      <td>151.0</td>\n",
       "      <td>6.0</td>\n",
       "      <td>0.0</td>\n",
       "      <td>10.0</td>\n",
       "      <td>124.2</td>\n",
       "      <td>6.0</td>\n",
       "      <td>76.0</td>\n",
       "      <td>455.2</td>\n",
       "      <td>0.0</td>\n",
       "    </tr>\n",
       "  </tbody>\n",
       "</table>\n",
       "<p>5 rows × 23 columns</p>\n",
       "</div>"
      ],
      "text/plain": [
       "      DrivGender MaritalStatus  BonusMalus      PayFreq  JobCode  VehAge  \\\n",
       "22083          F       Unknown        64.0  Half-yearly  Unknown     6.0   \n",
       "23319          F       Unknown        90.0       Annual  Unknown     9.0   \n",
       "30662          M       Unknown        50.0  Half-yearly  Unknown     3.0   \n",
       "17190          M       Unknown        85.0  Half-yearly  Unknown    14.0   \n",
       "11823          M       Unknown        50.0       Annual  Unknown     6.0   \n",
       "\n",
       "         VehClass VehPower   VehGas                VehUsage  ...  \\\n",
       "22083     Cheaper      P11  Regular  Private+trip to office  ...   \n",
       "23319     Cheaper      P11  Regular  Private+trip to office  ...   \n",
       "30662  Medium low      P14   Diesel            Professional  ...   \n",
       "17190     Cheaper       P9  Regular  Private+trip to office  ...   \n",
       "11823  Medium low      P14   Diesel  Private+trip to office  ...   \n",
       "\n",
       "      PremWindscreen PremDamAll PremFire  PremAcc1  PremLegal  PremTPLM  \\\n",
       "22083           24.0        0.0      9.0      37.0       12.0     182.5   \n",
       "23319            0.0        0.0      0.0      36.0       15.0     352.0   \n",
       "30662           56.0      276.0     13.0       0.0       17.0     224.9   \n",
       "17190            0.0        0.0      0.0      35.0       10.0     196.6   \n",
       "11823           32.0      151.0      6.0       0.0       10.0     124.2   \n",
       "\n",
       "       PremTPLV  PremTheft  PremTot  GotClaim  \n",
       "22083      10.0       88.0    419.5       1.0  \n",
       "23319      19.0        0.0    477.0       0.0  \n",
       "30662      12.0      105.0    760.9       0.0  \n",
       "17190       0.0        0.0    299.6       1.0  \n",
       "11823       6.0       76.0    455.2       0.0  \n",
       "\n",
       "[5 rows x 23 columns]"
      ]
     },
     "execution_count": 137,
     "metadata": {},
     "output_type": "execute_result"
    }
   ],
   "source": [
    "train.drop(columns = ['DrivAge', 'PremAcc2','PremServ','Garage', 'LicenceNb', 'Marketing', 'IDpol'], inplace=True)\n",
    "test.drop(columns = ['DrivAge', 'PremAcc2','PremServ','Garage', 'LicenceNb', 'Marketing', 'IDpol'], inplace=True)\n",
    "train.head()"
   ]
  },
  {
   "cell_type": "markdown",
   "metadata": {},
   "source": [
    "#### Graphes"
   ]
  },
  {
   "cell_type": "markdown",
   "metadata": {},
   "source": [
    "[RAPPORT] Pour pouvoir visualiser les données, nous avons tracé quelques graphiques :"
   ]
  },
  {
   "cell_type": "code",
   "execution_count": 138,
   "metadata": {},
   "outputs": [
    {
     "name": "stderr",
     "output_type": "stream",
     "text": [
      "C:\\Users\\Maeln\\AppData\\Local\\Temp\\ipykernel_12604\\2564256930.py:25: UserWarning: set_ticklabels() should only be used with a fixed number of ticks, i.e. after set_ticks() or using a FixedLocator.\n",
      "  axes[i].set_xticklabels(axes[i].get_xticklabels(), rotation=45, ha='right')\n",
      "C:\\Users\\Maeln\\AppData\\Local\\Temp\\ipykernel_12604\\2564256930.py:25: UserWarning: set_ticklabels() should only be used with a fixed number of ticks, i.e. after set_ticks() or using a FixedLocator.\n",
      "  axes[i].set_xticklabels(axes[i].get_xticklabels(), rotation=45, ha='right')\n",
      "C:\\Users\\Maeln\\AppData\\Local\\Temp\\ipykernel_12604\\2564256930.py:25: UserWarning: set_ticklabels() should only be used with a fixed number of ticks, i.e. after set_ticks() or using a FixedLocator.\n",
      "  axes[i].set_xticklabels(axes[i].get_xticklabels(), rotation=45, ha='right')\n"
     ]
    },
    {
     "data": {
      "image/png": "[encoded data removed]",
      "text/plain": [
       "<Figure size 1200x1000 with 3 Axes>"
      ]
     },
     "metadata": {},
     "output_type": "display_data"
    }
   ],
   "source": [
    "target_variable = 'GotClaim'\n",
    "columns_to_plot = ['DrivGender', 'MaritalStatus', 'JobCode']\n",
    "\n",
    "# Créer un DataFrame avec les colonnes nécessaires\n",
    "df_plot = train[columns_to_plot + [target_variable]].copy()\n",
    "\n",
    "# Convertir la colonne 'GotClaim' en str\n",
    "df_plot[target_variable] = df_plot[target_variable].astype(str)\n",
    "\n",
    "# Créer une figure avec plusieurs sous-graphiques\n",
    "fig, axes = plt.subplots(2, 2, figsize=(12, 10))\n",
    "\n",
    "# Aplatir la liste des axes pour faciliter l'indexation\n",
    "axes = axes.flatten()\n",
    "\n",
    "# Boucler sur les variables et créer les diagrammes en barres empilées groupées\n",
    "for i, column_to_plot in enumerate(columns_to_plot):\n",
    "    sns.countplot(x=column_to_plot, hue=target_variable, data=df_plot, palette='Set2', order=df_plot[column_to_plot].value_counts().index, dodge=True, ax=axes[i])\n",
    "    axes[i].set_xlabel(column_to_plot)\n",
    "    axes[i].set_ylabel('Nombre de Sinistres')\n",
    "    axes[i].set_title(f'Diagramme en Barres Empilées des Sinistres par {column_to_plot}')\n",
    "    axes[i].legend(title=target_variable)\n",
    "    \n",
    "    # Incliner les mots de la légende\n",
    "    axes[i].set_xticklabels(axes[i].get_xticklabels(), rotation=45, ha='right')\n",
    "\n",
    "# Supprimer le dernier axe (graphique vide)\n",
    "fig.delaxes(axes[-1])\n",
    "\n",
    "# Ajuster l'espacement entre les sous-graphiques\n",
    "plt.tight_layout()\n",
    "\n",
    "# Afficher les graphiques\n",
    "plt.show()"
   ]
  },
  {
   "cell_type": "code",
   "execution_count": 83,
   "metadata": {},
   "outputs": [
    {
     "data": {
      "text/plain": [
       "<Figure size 1000x600 with 0 Axes>"
      ]
     },
     "metadata": {},
     "output_type": "display_data"
    },
    {
     "data": {
      "image/png": "[encoded data removed]",
      "text/plain": [
       "<Figure size 640x480 with 1 Axes>"
      ]
     },
     "metadata": {},
     "output_type": "display_data"
    }
   ],
   "source": [
    "target_variable = 'GotClaim'\n",
    "column_to_plot = 'Region'\n",
    "\n",
    "# Créer un DataFrame avec les colonnes nécessaires\n",
    "df_plot = train[[column_to_plot, target_variable]].copy()\n",
    "\n",
    "# Convertir la colonne 'GotClaim' en str\n",
    "df_plot[target_variable] = df_plot[target_variable].astype(str)\n",
    "\n",
    "# Compter les occurrences de chaque catégorie pour chaque combinaison de 'VehGas' et 'GotClaim'\n",
    "count_df = df_plot.groupby([column_to_plot, target_variable]).size().unstack()\n",
    "\n",
    "# Normaliser pour obtenir des proportions\n",
    "count_df = count_df.div(count_df.sum(axis=1), axis=0)\n",
    "\n",
    "# Plot\n",
    "plt.figure(figsize=(10, 6))\n",
    "count_df.plot(kind='bar', stacked=True, colormap='viridis')\n",
    "plt.xlabel(column_to_plot)\n",
    "plt.ylabel('Proportion')\n",
    "plt.legend(title=target_variable, bbox_to_anchor=(1, 1))\n",
    "plt.show()"
   ]
  },
  {
   "cell_type": "markdown",
   "metadata": {},
   "source": [
    "## Description succinte des modèles utilisés\n",
    "\n",
    "Afin de résoudre la problématique de classification détaillée dans la première partie de ce rapport, nous allons nous attacher à l'étude de deux modèles de Machine Learning : la régression logistique et le random forest (ou forêt d'arbres décisionnels).  \n",
    "\n",
    "**Cadre :** Dans notre cas, nous tentons de prédire la valeur de la variable d'intérêt $Y$ qui correspond à 'GotClaim' à partir des différentes variables explicatives $X_i$ retenues en entrée (continues ou discrètes). Soit $p$ le nombre de variables explicatives considérées, on pose $X = \\left\\{X_1, X_2, ..., X_p\\right\\}$.  \n",
    "Ici, la variable d'intérêt ne peut prendre que deux valeurs : True (occurrence d'un sinistre) ou False (absence de sinistre), en d'autres termes, elle peut être modélisée comme une variable binaire à valeurs dans $\\left\\{0,1\\right\\}$. C'est ce qu'on appelle un problème de classification à deux classes.\n",
    "\n",
    "Les principes généraux des algorithmes d'apprentissage sont détaillés ci-dessous. \n",
    "\n",
    "### Régression Logistique \n",
    "\n",
    "Cette méthode d'apprentissage automatique est particulièrement utilisée pour résoudre des problématiques de classification binaire, i.e. pour expliquer une variable binaire à partir de plusieurs variables d'entrée.\n",
    "\n",
    "La spécificité de cette méthode repose sur la forme de l'expression de $\\mathbb{P}(Y=i|X)$ où $i \\in \\left\\{0,1\\right\\}$ c'est-à-dire la probabilité que pour que la variable d'intérêt appartienne à l'une ou l'autre de ses classes directement à partir de la donnée des autres variables. Ce modèle fait l'hypothèse que la probabilité s'exprime à partir de la fonction sigmoïde :   \n",
    "$$\\mathbb{P}(Y=i|X) = \\frac{\\exp(b_0+b_1X_1+...+b_pX_p)}{1+\\exp(b_0+b_1X_1+...+b_pX_p)}$$  \n",
    "où $b = (b_0, b_1,..., b_p)$ est un paramètre à estimer dans le modèle.\n",
    "\n",
    "Ainsi, après l'étape d'estimation de ce paramètre, la régression logistique fournit une expression explicite de la probabilité que la variable d'intérêt appartienne à chaque classe pour une observation donnée.\n",
    "\n",
    "### Random Forest\n",
    "\n",
    "Les forêts aléatoires (ou random forest) désignent une autre famille de technique d'apprentissage automatique, aussi bien applicable à des problèmes de régression que de classification. \n",
    "\n",
    "Elle s'appuie sur l'utilisation simultanée de plusieurs arbres de décision entraînés sur différents sous-ensembles de données d'entrée.  \n",
    "Un arbre de décision est une structure particulière composée de plusieurs noeuds successifs reliés chacun par des arêtes. A chaque noeud de l'arbre, une variable d'entrée est sélectionnée selon une méthode que l'on ne développera pas ici. Les arêtes partant de ce noeud représentent alors l'ensemble des valeurs potentielles de la variable correspondante, et permettent de guider l'algorithme vers un autre noeud en fonction de la valeur prise par la variable du noeud précédent. Ce processus se poursuit sur un nombre aléatoire de noeuds jusqu'à donner, soit la valeur finale de la variable d'intérêt, soit une distribution de probabilité de ses différentes valeurs.\n",
    "\n",
    "Dans le cas du random forest, on combine différents arbres de décision. Ces derniers vont donner chacun un résultat pour la variable d'intérêt. Le choix de la valeur retenue se fait alors sur le principe de la majorité.  \n",
    "Par exemple, si on considère une forêt aléatoire constituée de 3 arbres et que 2 d'entre eux renvoient la valeur 1 (le dernier donne 0), alors on retiendra la valeur majoritaire, soit 1, comme sortie de l'algorithme."
   ]
  },
  {
   "cell_type": "code",
   "execution_count": 139,
   "metadata": {},
   "outputs": [],
   "source": [
    "from sklearn.linear_model import LogisticRegression\n",
    "from sklearn.ensemble import RandomForestClassifier\n",
    "from sklearn.metrics import classification_report, confusion_matrix\n",
    "from sklearn.compose import ColumnTransformer\n",
    "from sklearn.impute import SimpleImputer\n",
    "from sklearn.preprocessing import OneHotEncoder\n",
    "from sklearn.datasets import fetch_openml\n",
    "from sklearn.feature_selection import SelectPercentile, chi2\n",
    "from sklearn.model_selection import RandomizedSearchCV, train_test_split, GridSearchCV\n",
    "from sklearn.pipeline import Pipeline"
   ]
  },
  {
   "cell_type": "code",
   "execution_count": 140,
   "metadata": {},
   "outputs": [],
   "source": [
    "y = train['GotClaim']\n",
    "X = train.drop(columns=['GotClaim'])"
   ]
  },
  {
   "cell_type": "code",
   "execution_count": 141,
   "metadata": {},
   "outputs": [],
   "source": [
    "numeric_features = ['VehAge', 'BonusMalus', 'PremWindscreen', 'PremDamAll', 'PremFire', 'PremAcc1', \n",
    "                     'PremLegal', 'PremTPLM', 'PremTPLV', 'PremTheft']\n",
    "\n",
    "categorical_features = ['DrivGender', 'MaritalStatus', 'PayFreq', 'JobCode', 'VehClass', 'VehPower', \n",
    "                       'VehGas', 'VehUsage', 'Area', 'Region', 'Channel']"
   ]
  },
  {
   "cell_type": "code",
   "execution_count": 142,
   "metadata": {},
   "outputs": [],
   "source": [
    "numeric_transformer = Pipeline(\n",
    "    steps=[(\"imputer\", SimpleImputer(strategy=\"median\")), (\"scaler\", StandardScaler())]\n",
    ")\n",
    "\n",
    "categorical_transformer = Pipeline(\n",
    "    steps=[\n",
    "        (\"encoder\", OneHotEncoder(handle_unknown=\"ignore\")),\n",
    "        (\"selector\", SelectPercentile(chi2, percentile=50)),\n",
    "    ]\n",
    ")\n",
    "preprocessor = ColumnTransformer(\n",
    "    transformers=[\n",
    "        (\"num\", numeric_transformer, numeric_features),\n",
    "        (\"cat\", categorical_transformer, categorical_features),\n",
    "    ]\n",
    ")"
   ]
  },
  {
   "cell_type": "code",
   "execution_count": 143,
   "metadata": {},
   "outputs": [],
   "source": [
    "pipe_lr = Pipeline(\n",
    "    steps=[(\"preprocessor\", preprocessor), (\"LR\", LogisticRegression(random_state=SEED))]\n",
    ")\n",
    "\n",
    "pipe_rf = Pipeline(\n",
    "    steps=[(\"preprocessor\", preprocessor), (\"RF\", RandomForestClassifier(random_state=SEED, class_weight='balanced'))]\n",
    ")"
   ]
  },
  {
   "cell_type": "code",
   "execution_count": 144,
   "metadata": {},
   "outputs": [],
   "source": [
    "param_range = [1, 2, 3, 4, 5, 6]\n",
    "param_range_fl =  np.logspace(-4, 4, 20)\n",
    "n_estimators = [50,100,150]\n",
    "learning_rates = [.1,.2,.3]\n",
    "\n",
    "lr_param_grid = [{'LR__penalty': ['l1', 'l2'],\n",
    "                   'LR__C': param_range_fl,\n",
    "                   'LR__solver': ['liblinear']}]\n",
    "\n",
    "rf_param_grid = [{'RF__min_samples_leaf': param_range}]"
   ]
  },
  {
   "cell_type": "code",
   "execution_count": 145,
   "metadata": {},
   "outputs": [],
   "source": [
    "lr_grid_search = GridSearchCV(estimator=pipe_lr,\n",
    "        param_grid=lr_param_grid,\n",
    "        verbose = True,\n",
    "        cv=5)\n",
    "\n",
    "rf_grid_search = GridSearchCV(estimator=pipe_rf,\n",
    "        param_grid=rf_param_grid,\n",
    "        verbose = True,\n",
    "        cv=3)"
   ]
  },
  {
   "cell_type": "code",
   "execution_count": 147,
   "metadata": {},
   "outputs": [
    {
     "name": "stdout",
     "output_type": "stream",
     "text": [
      "Fitting 5 folds for each of 40 candidates, totalling 200 fits\n",
      "model score: 0.739\n",
      "Fitting 3 folds for each of 6 candidates, totalling 18 fits\n"
     ]
    }
   ],
   "source": [
    "grids = [lr_grid_search, rf_grid_search]\n",
    "models_fitted = []\n",
    "X_train, X_test, y_train, y_test = train_test_split(X, y, test_size=0.2, random_state=SEED)\n",
    "for pipe in grids:\n",
    "    tmp = pipe.fit(X_train,y_train)\n",
    "    print(\"model score: %.3f\" % tmp.score(X_test, y_test))\n",
    "    models_fitted.append(tmp)"
   ]
  },
  {
   "cell_type": "code",
   "execution_count": 92,
   "metadata": {},
   "outputs": [
    {
     "name": "stdout",
     "output_type": "stream",
     "text": [
      "[[5056   11]\n",
      " [1829   15]]\n",
      "[[5067    0]\n",
      " [1844    0]]\n"
     ]
    }
   ],
   "source": [
    "y_true = test['GotClaim']\n",
    "X_true = test.drop(columns = [\"GotClaim\"])\n",
    "for model in models_fitted:\n",
    "    y_pred = model.predict(X_true)\n",
    "    cm = confusion_matrix(y_true, y_pred)\n",
    "    print(cm)"
   ]
  },
  {
   "cell_type": "code",
   "execution_count": 118,
   "metadata": {},
   "outputs": [
    {
     "name": "stdout",
     "output_type": "stream",
     "text": [
      "Accuracy :  0.7337577774562292\n",
      "Sensitivity :  0.008134490238611713\n"
     ]
    }
   ],
   "source": [
    "cm1 = [[15,1829], [11, 5056]]\n",
    "\n",
    "total1=sum([sum(i) for i in cm1])\n",
    "accuracy1=(cm1[0][0]+cm1[1][1])/total1\n",
    "print ('Accuracy : ', accuracy1)\n",
    "sensitivity1 = cm1[0][0]/(cm1[0][0]+cm1[0][1])\n",
    "print('Sensitivity : ', sensitivity1 )"
   ]
  },
  {
   "cell_type": "code",
   "execution_count": 114,
   "metadata": {},
   "outputs": [
    {
     "name": "stdout",
     "output_type": "stream",
     "text": [
      "Accuracy :  0.9393720156272609\n",
      "Sensitivity :  0.9538188277087034\n"
     ]
    }
   ],
   "source": [
    "cm1 = [[4833, 234], [185, 1659]]\n",
    "\n",
    "total1=sum([sum(i) for i in cm1])\n",
    "accuracy1=(cm1[0][0]+cm1[1][1])/total1\n",
    "print ('Accuracy : ', accuracy1)\n",
    "sensitivity1 = cm1[0][0]/(cm1[0][0]+cm1[0][1])\n",
    "print('Sensitivity : ', sensitivity1 )"
   ]
  },
  {
   "cell_type": "markdown",
   "metadata": {},
   "source": [
    "## Analyse des résultats\n",
    "\n",
    "### Rappel de l'objectif côté assureur et des métriques utilisées :\n",
    "\n",
    "Le but de ces modèles de classification est d'étudier la sinistralité potentielle du portefeuille, afin de calibrer les provisions et fonds propres en conséquence. En outre, nous souhaitons éviter autant que possible de sous-évaluer le risque.\n",
    "\n",
    "Pour vérifier la véracité des prédictions de nos modèles (Régression Logistique et Random Forest) nous avons utilisé différentes métriques. La première est l'accuracy (précision globale des prédictions). En effet, cette métrique n'est pas forcément idéale puisque l'unique prise en compte de cette dernière ne permet pas d'attester des bonnes performances prédictives du modèle : un modèle qui indique qu'il n'y a jamais de sinistre et qui a 75% d'accuracy n'est pas correct pour autant\n",
    "\n",
    "La seconde métrique que nous avons utilisée est le sensibilité. Dans notre cas, la sensibilité désigne la capacité du modèle à détecter les éventuels sinistres. Une haute sensibilité indique que peu de sinistres ne seront pas détectés.\n",
    "\n",
    "\n",
    "### Détail des résultats par modèle\n",
    "\n",
    "<table>\n",
    "<tr><th>Régression Logistique </th><th> Random Forest </th></tr>\n",
    "<tr><td>\n",
    "\n",
    "| Métrique    | Valeur |\n",
    "| --------    | ------ |\n",
    "| Accuracy    | 0.75   |\n",
    "| Sensibilité | 0.15   |\n",
    "\n",
    "</td><td>\n",
    "\n",
    "| Métrique    | Valeur |\n",
    "| --------    | ------ |\n",
    "| Accuracy    | 0.93   |\n",
    "| Sensibilité | 0.95   |\n",
    "\n",
    "</td></tr> </table>\n",
    "\n",
    "\n",
    "Au vue des résultat et de l'objectif d'un point de vue assureur\n",
    "\n"
   ]
  }
 ],
 "metadata": {
  "kernelspec": {
   "display_name": "Python 3",
   "language": "python",
   "name": "python3"
  },
  "language_info": {
   "codemirror_mode": {
    "name": "ipython",
    "version": 3
   },
   "file_extension": ".py",
   "mimetype": "text/x-python",
   "name": "python",
   "nbconvert_exporter": "python",
   "pygments_lexer": "ipython3",
   "version": "3.12.1"
  }
 },
 "nbformat": 4,
 "nbformat_minor": 2
}
