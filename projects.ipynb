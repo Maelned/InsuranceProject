{
 "cells": [
  {
   "cell_type": "markdown",
   "metadata": {},
   "source": [
    "# Project Insurance Domain | Car accident risk assessments\n",
    "\n",
    "Here is the paper containg the datasets : https://dutangc.perso.math.cnrs.fr/RRepository/pub/web/CASdatasets-manual.pdf#page=56&zoom=100,133,256\n",
    "\n",
    "## Datasets description \n",
    "Datasets from the same database of an unknown private motor portfolio observed between January 2003 and December 2004\n",
    "\n",
    "respectively :\n",
    "\n",
    "- freq -> claim frequency databases\n",
    "- sev -> claim severity databases\n",
    "- prem -> premium databases\n",
    "\n",
    "Here is the description for each dataset :\n",
    "**prem**\n",
    "\n",
    "| Variable       | Description |\n",
    "| --------       | ----------- |\n",
    "| IDpol          | Le numéro d'identifiant de la police |\n",
    "| DrivAge        | L'âge du conducteur, en années |\n",
    "| DriveGener     | Le sexe du conducteur (\"facteur\") |\n",
    "| MaritalStatus  | Le statut marital (\"facteur\") |\n",
    "| BonusMalus     | Le bonus-malus |\n",
    "| LicenceNb      | Le numéro de permis de conduire |\n",
    "| Payfreq        | La fréquence des paiements (\"facteur\") |\n",
    "| JobCode        | Un code correspondant à la profession (\"facteur\") |\n",
    "| VehAge         | L'âge du véhicule, en années |\n",
    "| VehClass       | Le type de véhicule (\"facteur\") |\n",
    "| VehPower       | La puissance du véhicule (\"facteur\") du moins puissant \"P2\" au plus puissant \"P15\" |\n",
    "| VehGas         | Le type de moteur : diesel ou essence (\"facteur\") |\n",
    "| VehUsage       | L'usage du véhicule (\"facteur\") |\n",
    "| Garage         | Le type de garage (\"facteur\") |\n",
    "| Area           | The area code (as \"factor\"): unknown category |\n",
    "| Region         | The policy regions in France (based on a standard French classification) |\n",
    "| Channel        | The channel distribution code (as \"factor\"): unknown category |\n",
    "| Marketing      | The marketing code (as \"factor\"): unknown category |\n",
    "| PremWindscreen | The premium for windscreen guarantee (annual basis) |\n",
    "| PremDamAll     | The premium for damage all-accident guarantee (annual basis) |\n",
    "| PremFire       | The premium for fire guarantee (annual basis) |\n",
    "| PremAcc1       | The premium for type-1 accident guarantee (annual basis) |\n",
    "| PremAcc2       | The premium for type-2 accident guarantee (annual basis) |\n",
    "| PremLegal      | The premium for legal protection guarantee (annual basis) |\n",
    "| PremTPLV       | The premium for voluntary third-part liability guarantee (annual basis) |\n",
    "| PremTPLM       | The premium for mandatory third-part liability guarantee (annual basis) |\n",
    "| PremServ       | The premium for service guarantee (annual basis) |\n",
    "| PremTheft      | The premium for theft guarantee (annual basis) |\n",
    "| PremTot        | The total premium (annual basis) |\n",
    "| Year           | Numeric for the year |\n",
    "\n",
    "\n",
    "**freq**\n",
    "\n",
    "| Variable | Description |\n",
    "| -------- | ----------- |\n",
    "| IDpol | The policy ID (used to link with the claims dataset) |\n",
    "| Year | The underwriting year |\n",
    "| Damage | The claim number for the Damage guarantee |\n",
    "| Fire | The claim number for the Fire guarantee |\n",
    "| Other | The claim number for the Other guarantee |\n",
    "| Theft | The claim number for the Theft guarantee |\n",
    "| TPL | The claim number for the TPL guarantee |\n",
    "| Windscreen | The claim number for the Windscreen guarantee |\n",
    "\n",
    "**sev**\n",
    "\n",
    "| Variable | Description |\n",
    "| -------- | ----------- |\n",
    "| IDpol | The policy ID (used to link with the claims dataset) |\n",
    "| OccurDate | The occurence date |\n",
    "| Payment | The amount of money paid |\n",
    "| IDclaim | The claim ID |\n",
    "| Guarantee | The corresponding guarantee of the claim |\n"
   ]
  },
  {
   "cell_type": "markdown",
   "metadata": {},
   "source": [
    "## Project\n",
    "First of all let's do useful imports suchs as numpy and pandas for calculation and data manipulation or matplotlib and seaborn for nice graphs and DataViz"
   ]
  },
  {
   "cell_type": "code",
   "execution_count": 3,
   "metadata": {},
   "outputs": [],
   "source": [
    "import os\n",
    "import numpy as np\n",
    "import pandas as pd\n",
    "import seaborn as sns\n",
    "import matplotlib.pyplot as plt\n",
    "SEED = 42"
   ]
  },
  {
   "cell_type": "code",
   "execution_count": 4,
   "metadata": {},
   "outputs": [
    {
     "name": "stderr",
     "output_type": "stream",
     "text": [
      "/tmp/ipykernel_22598/363754127.py:1: DtypeWarning: Columns (4,8) have mixed types. Specify dtype option on import or set low_memory=False.\n",
      "  df = pd.read_csv('./data/all_data.csv', index_col=[0])\n"
     ]
    }
   ],
   "source": [
    "df = pd.read_csv('./data/all_data.csv', index_col=[0])"
   ]
  },
  {
   "cell_type": "markdown",
   "metadata": {},
   "source": [
    "Quick data validation (verify NaN and inconsistencies)"
   ]
  },
  {
   "cell_type": "code",
   "execution_count": 5,
   "metadata": {},
   "outputs": [
    {
     "data": {
      "text/plain": [
       "MaritalStatus    23246\n",
       "JobCode          23246\n",
       "OccurDate        25307\n",
       "Payment          25307\n",
       "IDclaim          25307\n",
       "Guarantee        25307\n",
       "dtype: int64"
      ]
     },
     "execution_count": 5,
     "metadata": {},
     "output_type": "execute_result"
    }
   ],
   "source": [
    "nan_counts = df.isna().sum()\n",
    "# Filter columns with NaN values\n",
    "columns_with_nan = nan_counts[nan_counts > 0]\n",
    "columns_with_nan"
   ]
  },
  {
   "cell_type": "code",
   "execution_count": 6,
   "metadata": {},
   "outputs": [
    {
     "name": "stdout",
     "output_type": "stream",
     "text": [
      "Treating column :  MaritalStatus\n",
      "Number of missing values :  23246\n",
      "MaritalStatus\n",
      "Cohabiting    7105\n",
      "Married       2365\n",
      "Single        1361\n",
      "Widowed        340\n",
      "Divorced       136\n",
      "Name: count, dtype: int64\n",
      "\n",
      "\n",
      "Treating column :  JobCode\n",
      "Number of missing values :  23246\n",
      "JobCode\n",
      "Private employee    6091\n",
      "Public employee     3338\n",
      "Retiree              690\n",
      "Other                565\n",
      "Craftsman            438\n",
      "Farmer               167\n",
      "Retailer              18\n",
      "Name: count, dtype: int64\n",
      "\n",
      "\n",
      "Treating column :  OccurDate\n",
      "Number of missing values :  25307\n",
      "OccurDate\n",
      "2003-01-20    28\n",
      "2004-07-16    27\n",
      "2003-05-18    26\n",
      "2004-11-30    26\n",
      "2004-09-25    25\n",
      "              ..\n",
      "2003-12-26     3\n",
      "2003-08-29     2\n",
      "2004-05-05     2\n",
      "2003-07-25     2\n",
      "2004-06-09     2\n",
      "Name: count, Length: 722, dtype: int64\n",
      "\n",
      "\n",
      "Treating column :  Payment\n",
      "Number of missing values :  25307\n",
      "Payment\n",
      "897.0     448\n",
      "0.0       328\n",
      "915.0     215\n",
      "1121.0     92\n",
      "199.0      34\n",
      "         ... \n",
      "1625.0      1\n",
      "806.0       1\n",
      "4373.0      1\n",
      "4288.0      1\n",
      "2571.0      1\n",
      "Name: count, Length: 2250, dtype: int64\n",
      "\n",
      "\n",
      "Treating column :  IDclaim\n",
      "Number of missing values :  25307\n",
      "IDclaim\n",
      "9731.0       7\n",
      "201827.0     6\n",
      "8175.0       5\n",
      "10060.0      5\n",
      "204940.0     5\n",
      "            ..\n",
      "1209261.0    1\n",
      "205870.0     1\n",
      "200210.0     1\n",
      "208498.0     1\n",
      "1208148.0    1\n",
      "Name: count, Length: 8968, dtype: int64\n",
      "\n",
      "\n",
      "Treating column :  Guarantee\n",
      "Number of missing values :  25307\n",
      "Guarantee\n",
      "TPL           4202\n",
      "Windscreen    3196\n",
      "Damage         953\n",
      "Theft          575\n",
      "Other          213\n",
      "Fire           107\n",
      "Name: count, dtype: int64\n",
      "\n",
      "\n"
     ]
    }
   ],
   "source": [
    "for i in columns_with_nan.keys():\n",
    "    print('Treating column : ', i)\n",
    "    print('Number of missing values : ', df[i].isna().sum())\n",
    "    print(df[i].value_counts())\n",
    "    print('\\n')"
   ]
  },
  {
   "cell_type": "code",
   "execution_count": 7,
   "metadata": {},
   "outputs": [],
   "source": [
    "for i in ['MaritalStatus', 'JobCode']:\n",
    "    df[i].fillna('Unknown', inplace = True)"
   ]
  },
  {
   "cell_type": "code",
   "execution_count": 8,
   "metadata": {},
   "outputs": [
    {
     "data": {
      "text/plain": [
       "OccurDate    25307\n",
       "Payment      25307\n",
       "IDclaim      25307\n",
       "Guarantee    25307\n",
       "dtype: int64"
      ]
     },
     "execution_count": 8,
     "metadata": {},
     "output_type": "execute_result"
    }
   ],
   "source": [
    "nan_counts = df.isna().sum()\n",
    "# Filter columns with NaN values\n",
    "columns_with_nan = nan_counts[nan_counts > 0]\n",
    "columns_with_nan"
   ]
  },
  {
   "cell_type": "code",
   "execution_count": 9,
   "metadata": {},
   "outputs": [],
   "source": [
    "df['GotClaim'] = df['Payment'].notna()\n",
    "df.drop(columns = ['OccurDate', 'Payment', 'IDclaim', 'Guarantee', 'Damage', 'Fire', 'Other', 'Theft', 'TPL', 'Windscreen'], inplace=True)"
   ]
  },
  {
   "cell_type": "markdown",
   "metadata": {},
   "source": [
    "These missing values are 'normal' it means that there is no Claim for the corresponding PolicyID."
   ]
  },
  {
   "cell_type": "markdown",
   "metadata": {},
   "source": [
    "Let's create our target feature which is whether a person got claim or not"
   ]
  },
  {
   "cell_type": "code",
   "execution_count": 10,
   "metadata": {},
   "outputs": [],
   "source": [
    "from sklearn.model_selection import train_test_split\n",
    "\n",
    "train_df, test_df = train_test_split(df, test_size=0.2, random_state=42)\n",
    "test_df.drop(columns=['GotClaim'], inplace=True)\n"
   ]
  },
  {
   "cell_type": "code",
   "execution_count": 11,
   "metadata": {},
   "outputs": [],
   "source": [
    "train_df.to_csv('./data/train.csv')\n",
    "test_df.to_csv('./data/test.csv')"
   ]
  },
  {
   "cell_type": "code",
   "execution_count": 12,
   "metadata": {},
   "outputs": [],
   "source": [
    "train = pd.read_csv('./data/train.csv', index_col=[0])\n",
    "test = pd.read_csv('./data/test.csv', index_col=[0])"
   ]
  },
  {
   "cell_type": "code",
   "execution_count": 13,
   "metadata": {},
   "outputs": [
    {
     "data": {
      "text/html": [
       "<div>\n",
       "<style scoped>\n",
       "    .dataframe tbody tr th:only-of-type {\n",
       "        vertical-align: middle;\n",
       "    }\n",
       "\n",
       "    .dataframe tbody tr th {\n",
       "        vertical-align: top;\n",
       "    }\n",
       "\n",
       "    .dataframe thead th {\n",
       "        text-align: right;\n",
       "    }\n",
       "</style>\n",
       "<table border=\"1\" class=\"dataframe\">\n",
       "  <thead>\n",
       "    <tr style=\"text-align: right;\">\n",
       "      <th></th>\n",
       "      <th>IDpol</th>\n",
       "      <th>DrivAge</th>\n",
       "      <th>DrivGender</th>\n",
       "      <th>MaritalStatus</th>\n",
       "      <th>BonusMalus</th>\n",
       "      <th>LicenceNb</th>\n",
       "      <th>PayFreq</th>\n",
       "      <th>JobCode</th>\n",
       "      <th>VehAge</th>\n",
       "      <th>VehClass</th>\n",
       "      <th>...</th>\n",
       "      <th>PremFire</th>\n",
       "      <th>PremAcc1</th>\n",
       "      <th>PremAcc2</th>\n",
       "      <th>PremLegal</th>\n",
       "      <th>PremTPLM</th>\n",
       "      <th>PremTPLV</th>\n",
       "      <th>PremServ</th>\n",
       "      <th>PremTheft</th>\n",
       "      <th>PremTot</th>\n",
       "      <th>GotClaim</th>\n",
       "    </tr>\n",
       "  </thead>\n",
       "  <tbody>\n",
       "    <tr>\n",
       "      <th>22083</th>\n",
       "      <td>90158529.100b</td>\n",
       "      <td>29.0</td>\n",
       "      <td>F</td>\n",
       "      <td>Unknown</td>\n",
       "      <td>64.0</td>\n",
       "      <td>2.0</td>\n",
       "      <td>Half-yearly</td>\n",
       "      <td>Unknown</td>\n",
       "      <td>6.0</td>\n",
       "      <td>Cheaper</td>\n",
       "      <td>...</td>\n",
       "      <td>9.0</td>\n",
       "      <td>37.0</td>\n",
       "      <td>0.0</td>\n",
       "      <td>12.0</td>\n",
       "      <td>182.5</td>\n",
       "      <td>10.0</td>\n",
       "      <td>57.0</td>\n",
       "      <td>88.0</td>\n",
       "      <td>419.5</td>\n",
       "      <td>True</td>\n",
       "    </tr>\n",
       "    <tr>\n",
       "      <th>23319</th>\n",
       "      <td>90168155.100a</td>\n",
       "      <td>30.0</td>\n",
       "      <td>F</td>\n",
       "      <td>Unknown</td>\n",
       "      <td>90.0</td>\n",
       "      <td>1.0</td>\n",
       "      <td>Annual</td>\n",
       "      <td>Unknown</td>\n",
       "      <td>9.0</td>\n",
       "      <td>Cheaper</td>\n",
       "      <td>...</td>\n",
       "      <td>0.0</td>\n",
       "      <td>36.0</td>\n",
       "      <td>0.0</td>\n",
       "      <td>15.0</td>\n",
       "      <td>352.0</td>\n",
       "      <td>19.0</td>\n",
       "      <td>55.0</td>\n",
       "      <td>0.0</td>\n",
       "      <td>477.0</td>\n",
       "      <td>False</td>\n",
       "    </tr>\n",
       "    <tr>\n",
       "      <th>30662</th>\n",
       "      <td>90147484.101a</td>\n",
       "      <td>42.0</td>\n",
       "      <td>M</td>\n",
       "      <td>Unknown</td>\n",
       "      <td>50.0</td>\n",
       "      <td>2.0</td>\n",
       "      <td>Half-yearly</td>\n",
       "      <td>Unknown</td>\n",
       "      <td>3.0</td>\n",
       "      <td>Medium low</td>\n",
       "      <td>...</td>\n",
       "      <td>13.0</td>\n",
       "      <td>0.0</td>\n",
       "      <td>0.0</td>\n",
       "      <td>17.0</td>\n",
       "      <td>224.9</td>\n",
       "      <td>12.0</td>\n",
       "      <td>57.0</td>\n",
       "      <td>105.0</td>\n",
       "      <td>760.9</td>\n",
       "      <td>False</td>\n",
       "    </tr>\n",
       "    <tr>\n",
       "      <th>17190</th>\n",
       "      <td>90131741.100b</td>\n",
       "      <td>29.0</td>\n",
       "      <td>M</td>\n",
       "      <td>Unknown</td>\n",
       "      <td>85.0</td>\n",
       "      <td>2.0</td>\n",
       "      <td>Half-yearly</td>\n",
       "      <td>Unknown</td>\n",
       "      <td>14.0</td>\n",
       "      <td>Cheaper</td>\n",
       "      <td>...</td>\n",
       "      <td>0.0</td>\n",
       "      <td>35.0</td>\n",
       "      <td>0.0</td>\n",
       "      <td>10.0</td>\n",
       "      <td>196.6</td>\n",
       "      <td>0.0</td>\n",
       "      <td>58.0</td>\n",
       "      <td>0.0</td>\n",
       "      <td>299.6</td>\n",
       "      <td>True</td>\n",
       "    </tr>\n",
       "    <tr>\n",
       "      <th>11823</th>\n",
       "      <td>90185369.101a</td>\n",
       "      <td>44.0</td>\n",
       "      <td>M</td>\n",
       "      <td>Unknown</td>\n",
       "      <td>50.0</td>\n",
       "      <td>2.0</td>\n",
       "      <td>Annual</td>\n",
       "      <td>Unknown</td>\n",
       "      <td>6.0</td>\n",
       "      <td>Medium low</td>\n",
       "      <td>...</td>\n",
       "      <td>6.0</td>\n",
       "      <td>0.0</td>\n",
       "      <td>0.0</td>\n",
       "      <td>10.0</td>\n",
       "      <td>124.2</td>\n",
       "      <td>6.0</td>\n",
       "      <td>50.0</td>\n",
       "      <td>76.0</td>\n",
       "      <td>455.2</td>\n",
       "      <td>False</td>\n",
       "    </tr>\n",
       "  </tbody>\n",
       "</table>\n",
       "<p>5 rows × 30 columns</p>\n",
       "</div>"
      ],
      "text/plain": [
       "               IDpol  DrivAge DrivGender MaritalStatus  BonusMalus  LicenceNb  \\\n",
       "22083  90158529.100b     29.0          F       Unknown        64.0        2.0   \n",
       "23319  90168155.100a     30.0          F       Unknown        90.0        1.0   \n",
       "30662  90147484.101a     42.0          M       Unknown        50.0        2.0   \n",
       "17190  90131741.100b     29.0          M       Unknown        85.0        2.0   \n",
       "11823  90185369.101a     44.0          M       Unknown        50.0        2.0   \n",
       "\n",
       "           PayFreq  JobCode  VehAge    VehClass  ... PremFire PremAcc1  \\\n",
       "22083  Half-yearly  Unknown     6.0     Cheaper  ...      9.0     37.0   \n",
       "23319       Annual  Unknown     9.0     Cheaper  ...      0.0     36.0   \n",
       "30662  Half-yearly  Unknown     3.0  Medium low  ...     13.0      0.0   \n",
       "17190  Half-yearly  Unknown    14.0     Cheaper  ...      0.0     35.0   \n",
       "11823       Annual  Unknown     6.0  Medium low  ...      6.0      0.0   \n",
       "\n",
       "      PremAcc2 PremLegal PremTPLM PremTPLV PremServ PremTheft  PremTot  \\\n",
       "22083      0.0      12.0    182.5     10.0     57.0      88.0    419.5   \n",
       "23319      0.0      15.0    352.0     19.0     55.0       0.0    477.0   \n",
       "30662      0.0      17.0    224.9     12.0     57.0     105.0    760.9   \n",
       "17190      0.0      10.0    196.6      0.0     58.0       0.0    299.6   \n",
       "11823      0.0      10.0    124.2      6.0     50.0      76.0    455.2   \n",
       "\n",
       "       GotClaim  \n",
       "22083      True  \n",
       "23319     False  \n",
       "30662     False  \n",
       "17190      True  \n",
       "11823     False  \n",
       "\n",
       "[5 rows x 30 columns]"
      ]
     },
     "execution_count": 13,
     "metadata": {},
     "output_type": "execute_result"
    }
   ],
   "source": [
    "train.head()"
   ]
  },
  {
   "cell_type": "code",
   "execution_count": 14,
   "metadata": {},
   "outputs": [
    {
     "data": {
      "text/plain": [
       "Index(['IDpol', 'DrivAge', 'DrivGender', 'MaritalStatus', 'BonusMalus',\n",
       "       'LicenceNb', 'PayFreq', 'JobCode', 'VehAge', 'VehClass', 'VehPower',\n",
       "       'VehGas', 'VehUsage', 'Garage', 'Area', 'Region', 'Channel',\n",
       "       'Marketing', 'PremWindscreen', 'PremDamAll', 'PremFire', 'PremAcc1',\n",
       "       'PremAcc2', 'PremLegal', 'PremTPLM', 'PremTPLV', 'PremServ',\n",
       "       'PremTheft', 'PremTot', 'GotClaim'],\n",
       "      dtype='object')"
      ]
     },
     "execution_count": 14,
     "metadata": {},
     "output_type": "execute_result"
    }
   ],
   "source": [
    "train.columns"
   ]
  },
  {
   "cell_type": "markdown",
   "metadata": {},
   "source": [
    "Format data (int to int, categorical variables and so on...)"
   ]
  },
  {
   "cell_type": "code",
   "execution_count": 21,
   "metadata": {},
   "outputs": [],
   "source": [
    "numeric_features = ['DrivAge', 'VehAge', 'BonusMalus', 'PremWindscreen', 'PremDamAll', 'PremFire', 'PremAcc1', 'PremAcc2', \n",
    "                     'PremLegal', 'PremTPLM', 'PremTPLV', 'PremServ', 'PremTheft']\n",
    "\n",
    "categorical_features = ['DrivGender', 'MaritalStatus', 'LicenceNb', 'PayFreq', 'JobCode', 'VehClass', 'VehPower', \n",
    "                       'VehGas', 'VehUsage', 'Garage', 'Area', 'Region', 'Channel', 'Marketing']"
   ]
  },
  {
   "cell_type": "code",
   "execution_count": 22,
   "metadata": {},
   "outputs": [
    {
     "data": {
      "text/plain": [
       "IDpol              object\n",
       "DrivAge           float64\n",
       "DrivGender         object\n",
       "MaritalStatus      object\n",
       "BonusMalus        float64\n",
       "LicenceNb         float64\n",
       "PayFreq            object\n",
       "JobCode            object\n",
       "VehAge            float64\n",
       "VehClass           object\n",
       "VehPower           object\n",
       "VehGas             object\n",
       "VehUsage           object\n",
       "Garage             object\n",
       "Area               object\n",
       "Region             object\n",
       "Channel            object\n",
       "Marketing          object\n",
       "PremWindscreen    float64\n",
       "PremDamAll        float64\n",
       "PremFire          float64\n",
       "PremAcc1          float64\n",
       "PremAcc2          float64\n",
       "PremLegal         float64\n",
       "PremTPLM          float64\n",
       "PremTPLV          float64\n",
       "PremServ          float64\n",
       "PremTheft         float64\n",
       "PremTot           float64\n",
       "GotClaim             bool\n",
       "dtype: object"
      ]
     },
     "execution_count": 22,
     "metadata": {},
     "output_type": "execute_result"
    }
   ],
   "source": [
    "train.dtypes"
   ]
  },
  {
   "cell_type": "code",
   "execution_count": 23,
   "metadata": {},
   "outputs": [],
   "source": [
    "y = train['GotClaim']\n",
    "X = train.drop(columns=['GotClaim'])"
   ]
  },
  {
   "cell_type": "markdown",
   "metadata": {},
   "source": [
    "# Prepare the Machine Learning Pipelines"
   ]
  },
  {
   "cell_type": "code",
   "execution_count": 24,
   "metadata": {},
   "outputs": [],
   "source": [
    "from sklearn.linear_model import LogisticRegression\n",
    "from sklearn.metrics import classification_report, confusion_matrix\n",
    "from sklearn.compose import ColumnTransformer\n",
    "from sklearn.impute import SimpleImputer\n",
    "from sklearn.preprocessing import OneHotEncoder, StandardScaler\n",
    "from sklearn.datasets import fetch_openml\n",
    "from sklearn.feature_selection import SelectPercentile, chi2\n",
    "from sklearn.model_selection import RandomizedSearchCV, train_test_split\n",
    "from sklearn.pipeline import Pipeline"
   ]
  },
  {
   "cell_type": "code",
   "execution_count": 25,
   "metadata": {},
   "outputs": [],
   "source": [
    "numeric_transformer = Pipeline(\n",
    "    steps=[(\"imputer\", SimpleImputer(strategy=\"median\")), (\"scaler\", StandardScaler())]\n",
    ")\n",
    "\n",
    "categorical_transformer = Pipeline(\n",
    "    steps=[\n",
    "        (\"encoder\", OneHotEncoder(handle_unknown=\"ignore\")),\n",
    "        (\"selector\", SelectPercentile(chi2, percentile=50)),\n",
    "    ]\n",
    ")\n",
    "preprocessor = ColumnTransformer(\n",
    "    transformers=[\n",
    "        (\"num\", numeric_transformer, numeric_features),\n",
    "        (\"cat\", categorical_transformer, categorical_features),\n",
    "    ]\n",
    ")"
   ]
  },
  {
   "cell_type": "code",
   "execution_count": 26,
   "metadata": {},
   "outputs": [
    {
     "name": "stdout",
     "output_type": "stream",
     "text": [
      "model score: 0.740\n"
     ]
    },
    {
     "name": "stderr",
     "output_type": "stream",
     "text": [
      "/home/mnedellec/.virtualenvs/mael_spotify/lib/python3.9/site-packages/sklearn/linear_model/_logistic.py:460: ConvergenceWarning: lbfgs failed to converge (status=1):\n",
      "STOP: TOTAL NO. of ITERATIONS REACHED LIMIT.\n",
      "\n",
      "Increase the number of iterations (max_iter) or scale the data as shown in:\n",
      "    https://scikit-learn.org/stable/modules/preprocessing.html\n",
      "Please also refer to the documentation for alternative solver options:\n",
      "    https://scikit-learn.org/stable/modules/linear_model.html#logistic-regression\n",
      "  n_iter_i = _check_optimize_result(\n"
     ]
    }
   ],
   "source": [
    "clf = Pipeline(\n",
    "    steps=[(\"preprocessor\", preprocessor), (\"classifier\", LogisticRegression())]\n",
    ")\n",
    "\n",
    "X_train, X_test, y_train, y_test = train_test_split(X, y, test_size=0.2, random_state=SEED)\n",
    "\n",
    "clf.fit(X_train, y_train)\n",
    "print(\"model score: %.3f\" % clf.score(X_test, y_test))"
   ]
  },
  {
   "cell_type": "code",
   "execution_count": null,
   "metadata": {},
   "outputs": [],
   "source": []
  }
 ],
 "metadata": {
  "kernelspec": {
   "display_name": "mael_spotify",
   "language": "python",
   "name": "python3"
  },
  "language_info": {
   "codemirror_mode": {
    "name": "ipython",
    "version": 3
   },
   "file_extension": ".py",
   "mimetype": "text/x-python",
   "name": "python",
   "nbconvert_exporter": "python",
   "pygments_lexer": "ipython3",
   "version": "3.9.2"
  },
  "orig_nbformat": 4
 },
 "nbformat": 4,
 "nbformat_minor": 2
}
